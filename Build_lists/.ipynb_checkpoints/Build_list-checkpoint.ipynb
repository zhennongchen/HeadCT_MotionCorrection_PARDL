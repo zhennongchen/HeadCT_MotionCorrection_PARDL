{
 "cells": [
  {
   "cell_type": "markdown",
   "metadata": {},
   "source": [
    "Training, Validation and testing dataset were labeled by batch manually"
   ]
  },
  {
   "cell_type": "code",
   "execution_count": 41,
   "metadata": {},
   "outputs": [],
   "source": [
    "import os\n",
    "import numpy as np\n",
    "import pandas as pd\n",
    "import functions as ff"
   ]
  },
  {
   "cell_type": "code",
   "execution_count": 46,
   "metadata": {},
   "outputs": [],
   "source": [
    "data_path = '/Volumes/IRB2020P002624-DATA/zhennongchen/motion_correction/data'"
   ]
  },
  {
   "cell_type": "code",
   "execution_count": 43,
   "metadata": {},
   "outputs": [
    {
     "name": "stdout",
     "output_type": "stream",
     "text": [
      "112\n"
     ]
    }
   ],
   "source": [
    "l = ff.find_all_target_files(['*/*'],os.path.join(data_path,'raw_data/nii-images/thin_slice'))\n",
    "print(len(l))"
   ]
  },
  {
   "cell_type": "code",
   "execution_count": 44,
   "metadata": {},
   "outputs": [
    {
     "name": "stdout",
     "output_type": "stream",
     "text": [
      "112\n"
     ]
    }
   ],
   "source": [
    "file = '/Users/zhennongchen/Documents/Zhennong_HeadCT_motion/Data/Patient_list/Patient_list_simulation_batch.xlsx'\n",
    "data = pd.read_excel(file)\n",
    "print(data.shape[0])"
   ]
  },
  {
   "cell_type": "code",
   "execution_count": 57,
   "metadata": {},
   "outputs": [],
   "source": [
    "Result = []\n",
    "\n",
    "for i in range(0,data.shape[0]):\n",
    "    case = data.iloc[i]\n",
    "    patient_id = case['PatientID']\n",
    "    patient_subid = case['AccessionNumber']\n",
    "    batch = case['batch']\n",
    "    \n",
    "    if batch == 5:\n",
    "        train = 'test'\n",
    "    else:\n",
    "        train = 'train'\n",
    "    \n",
    "    # motion-free\n",
    "    motion_free_file = os.path.join(data_path,'raw_data/nii-images/thin_slice/',patient_id,patient_subid,'img-nii-1.5/img.nii.gz')\n",
    "    \n",
    "    # motion-corrupted\n",
    "    motion_corrupted_folders = ff.sort_timeframe(ff.find_all_target_files(['random_*'],os.path.join(data_path,'simulated_data',patient_id,patient_subid)),0,'_','/')\n",
    "    assert len(motion_corrupted_folders) > 0\n",
    "\n",
    "    \n",
    "    for j in range(0,len(motion_corrupted_folders)):\n",
    "        motion_name = os.path.basename(motion_corrupted_folders[j])\n",
    "        \n",
    "        motion_corrupted_file = os.path.join(motion_corrupted_folders[j],'image_data/recon.nii.gz')\n",
    "        assert os.path.isfile(motion_corrupted_file) == 1\n",
    "        \n",
    "        Result.append([train, batch, patient_id, patient_subid, motion_name, motion_free_file, motion_corrupted_file])  \n",
    "    \n",
    "    break\n",
    "    \n",
    "column_list = ['group','batch','PatientID','AccessionNumber','MotionName','GroundTruth','MotionFile']\n",
    "df = pd.DataFrame(Result, columns = column_list)\n",
    "df.to_excel('/Users/zhennongchen/Documents/Zhennong_HeadCT_motion/Data/Patient_list/Patient_list_train_test_file_list.xlsx',index=False)"
   ]
  },
  {
   "cell_type": "code",
   "execution_count": null,
   "metadata": {},
   "outputs": [],
   "source": []
  }
 ],
 "metadata": {
  "kernelspec": {
   "display_name": "Python 3",
   "language": "python",
   "name": "python3"
  },
  "language_info": {
   "codemirror_mode": {
    "name": "ipython",
    "version": 3
   },
   "file_extension": ".py",
   "mimetype": "text/x-python",
   "name": "python",
   "nbconvert_exporter": "python",
   "pygments_lexer": "ipython3",
   "version": "3.8.5"
  }
 },
 "nbformat": 4,
 "nbformat_minor": 4
}
