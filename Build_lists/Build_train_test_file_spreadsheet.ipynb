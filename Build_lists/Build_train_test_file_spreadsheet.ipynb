{
 "cells": [
  {
   "attachments": {},
   "cell_type": "markdown",
   "metadata": {},
   "source": [
    "Training, Validation and testing dataset were labeled by batch manually"
   ]
  },
  {
   "cell_type": "code",
   "execution_count": 1,
   "metadata": {},
   "outputs": [],
   "source": [
    "import sys\n",
    "sys.path.append(\"../../\")\n",
    "import os\n",
    "import numpy as np\n",
    "import pandas as pd\n",
    "import HeadCT_motion_correction_PAR.functions_collection as ff"
   ]
  },
  {
   "cell_type": "code",
   "execution_count": 5,
   "metadata": {},
   "outputs": [],
   "source": [
    "# data_path = '/Volumes/IRB2020P002624-DATA/zhennongchen/motion_correction/data'\n",
    "data_path = '/mnt/camca_NAS/motion_correction/data'"
   ]
  },
  {
   "cell_type": "code",
   "execution_count": 6,
   "metadata": {},
   "outputs": [
    {
     "name": "stdout",
     "output_type": "stream",
     "text": [
      "112\n"
     ]
    }
   ],
   "source": [
    "l = ff.find_all_target_files(['*/*'],os.path.join(data_path,'raw_data/nii-images/thin_slice'))\n",
    "print(len(l))"
   ]
  },
  {
   "cell_type": "code",
   "execution_count": 7,
   "metadata": {},
   "outputs": [
    {
     "name": "stdout",
     "output_type": "stream",
     "text": [
      "100\n"
     ]
    }
   ],
   "source": [
    "file = os.path.join(data_path,'Patient_list/Patient_list_batch_PAR.xlsx')\n",
    "data = pd.read_excel(file)\n",
    "print(data.shape[0])"
   ]
  },
  {
   "attachments": {},
   "cell_type": "markdown",
   "metadata": {},
   "source": [
    "# spreadsheet for all slices - slice thickness = 2.5mm"
   ]
  },
  {
   "cell_type": "code",
   "execution_count": 8,
   "metadata": {},
   "outputs": [],
   "source": [
    "Result = []\n",
    "random_list = np.arange(1,101,1)\n",
    "slice_list = [[5,20], [20,35], [35,50]]\n",
    "\n",
    "for i in range(0,data.shape[0]):\n",
    "    case = data.iloc[i]\n",
    "    patient_id = case['PatientID']\n",
    "    patient_subid = case['AccessionNumber']\n",
    "    batch = case['batch']\n",
    "    \n",
    "    if batch == 5:\n",
    "        train = 'test'\n",
    "    else:\n",
    "        train = 'train'\n",
    "       \n",
    "        \n",
    "    # motion-free\n",
    "    motion_free_file = os.path.join(data_path,'simulated_data_3D_spline',patient_id,patient_subid,'static/image_data/recon_partial.nii.gz')\n",
    "    assert os.path.isfile(motion_free_file) == 1\n",
    "    # motion-free downsampled and cropped\n",
    "    motion_free_ds_file = ''\n",
    "    # motion_free_ds_file = os.path.join(data_path,'simulated_data_2D_spline',patient_id,patient_subid,'static/image_data/recon_partial_ds.nii.gz')\n",
    "    # assert os.path.isfile(motion_free_ds_file) == 1\n",
    "\n",
    "    if case['ConfirmedMotion'] == False:\n",
    "\n",
    "        for j in random_list:\n",
    "            motion_name = 'random_'+ str(j)\n",
    "\n",
    "            # motion image\n",
    "            motion_corrupted_file = os.path.join(data_path,'simulated_data_3D_spline_6degrees',patient_id,patient_subid,motion_name,'image_data/recon_partial.nii.gz')\n",
    "            # assert os.path.isfile(motion_corrupted_file) == 1\n",
    "\n",
    "            # motion image downsampled and cropped\n",
    "            motion_corrupted_ds_file = ''\n",
    "            # motion_corrupted_ds_file = os.path.join(data_path,'simulated_data_2D_spline',patient_id,patient_subid,motion_name,'image_data/recon_partial_ds.nii.gz')\n",
    "\n",
    "            # motion parameters\n",
    "            motion_parameter_file = os.path.join(data_path,'simulated_data_3D_spline_6degrees',patient_id,patient_subid,motion_name,'motion_parameters_7CP.npy')\n",
    "            \n",
    "            # PAR\n",
    "            PAR_folders = os.path.join(data_path,'PAR_3D_spline_6degrees',patient_id,patient_subid, motion_name, 'slice_0_to_50')\n",
    "                \n",
    "            # PAR file\n",
    "            PAR_file = os.path.join(PAR_folders, 'PARs_ds_crop.nii.gz')\n",
    "            # assert os.path.isfile(PAR_file) == 1\n",
    "            \n",
    "            # apply true MVF to PAR\n",
    "            image_from_PAR_MVF = ''\n",
    "\n",
    "            for s in slice_list:\n",
    "                start_slice = s[0]\n",
    "                end_slice = s[1]\n",
    "            \n",
    "                Result.append([train, batch, patient_id, patient_subid, motion_name, start_slice, end_slice, motion_free_file, motion_free_ds_file, motion_corrupted_file, \n",
    "                                motion_corrupted_ds_file, motion_parameter_file, PAR_file, image_from_PAR_MVF])\n",
    "\n",
    "    else: # True\n",
    "        motion_name = 'real_data'\n",
    "        continue\n",
    "\n",
    "column_list = ['group','batch','PatientID','AccessionNumber','MotionName','PAR_start_slice', 'PAR_end_slice', 'MotionFree_File', 'MotionFreeDs_File',\n",
    "                'Motion_File', 'MotionDs_File', 'MotionParam','PAR_File','ImageFromPARMVF']\n",
    "df = pd.DataFrame(Result, columns = column_list)\n",
    "df.to_excel(os.path.join(data_path,'Patient_list/Patient_list_train_test_3D_spline_6degrees_PAR_downsampled_slice0-50_ablation_study_7CP.xlsx'),index=False)"
   ]
  },
  {
   "attachments": {},
   "cell_type": "markdown",
   "metadata": {},
   "source": [
    "# spreadsheet for particular slices, slice thickness = 2.5mm"
   ]
  },
  {
   "cell_type": "code",
   "execution_count": 5,
   "metadata": {},
   "outputs": [],
   "source": [
    "Result = []\n",
    "random_list = np.arange(1,101,1)\n",
    "\n",
    "for i in range(0,data.shape[0]):\n",
    "    case = data.iloc[i]\n",
    "    patient_id = case['PatientID']\n",
    "    patient_subid = case['AccessionNumber']\n",
    "    batch = case['batch']\n",
    "    \n",
    "    if batch == 5:\n",
    "        train = 'test'\n",
    "    else:\n",
    "        train = 'train'\n",
    "       \n",
    "        \n",
    "    # motion-free\n",
    "    motion_free_file = os.path.join(data_path,'simulated_data_3D_spline',patient_id,patient_subid,'static/image_data/recon_partial.nii.gz')\n",
    "    assert os.path.isfile(motion_free_file) == 1\n",
    "    # motion-free downsampled and cropped\n",
    "    motion_free_ds_file = ''\n",
    "    # motion_free_ds_file = os.path.join(data_path,'simulated_data_2D_spline',patient_id,patient_subid,'static/image_data/recon_partial_ds.nii.gz')\n",
    "    # assert os.path.isfile(motion_free_ds_file) == 1\n",
    "\n",
    "    if case['ConfirmedMotion'] == False:\n",
    "\n",
    "        for j in random_list:\n",
    "            motion_name = 'random_'+ str(j)\n",
    "\n",
    "            # motion image\n",
    "            motion_corrupted_file = os.path.join(data_path,'simulated_data_3D_spline',patient_id,patient_subid,motion_name,'image_data/recon_partial.nii.gz')\n",
    "            # assert os.path.isfile(motion_corrupted_file) == 1\n",
    "\n",
    "            # motion image downsampled and cropped\n",
    "            motion_corrupted_ds_file = ''\n",
    "            # motion_corrupted_ds_file = os.path.join(data_path,'simulated_data_2D_spline',patient_id,patient_subid,motion_name,'image_data/recon_partial_ds.nii.gz')\n",
    "\n",
    "            # motion parameters\n",
    "            motion_parameter_file = os.path.join(data_path,'simulated_data_3D_spline',patient_id,patient_subid,motion_name,'motion_parameters.npy')\n",
    "            \n",
    "            # PAR\n",
    "            PAR_folders = os.path.join(data_path,'PAR_3D_spline',patient_id,patient_subid, motion_name, 'slice_20_to_35')\n",
    "\n",
    "            end_slice = ff.find_timeframe(PAR_folders, 0 ,'_', '/')\n",
    "            start_slice = end_slice - 15\n",
    "                \n",
    "            # PAR file\n",
    "            PAR_file = os.path.join(PAR_folders,'ds', 'PARs_ds_crop.nii.gz')\n",
    "            # assert os.path.isfile(PAR_file) == 1\n",
    "            \n",
    "            # apply true MVF to PAR\n",
    "            image_from_PAR_MVF = ''\n",
    "            # image_from_PAR_MVF = os.path.join(PAR_folders,'image_by_PAR_true_MVF', 'image_by_PAR_ds.nii.gz')\n",
    "            # assert os.path.isfile(image_from_PAR_MVF) == 1\n",
    "            \n",
    "            Result.append([train, batch, patient_id, patient_subid, motion_name, start_slice, end_slice, motion_free_file, motion_free_ds_file, motion_corrupted_file, \n",
    "                            motion_corrupted_ds_file, motion_parameter_file, PAR_file, image_from_PAR_MVF])\n",
    "\n",
    "    else: # True\n",
    "        motion_name = 'real_data'\n",
    "        continue\n",
    "        # # motion image\n",
    "        # motion_corrupted_file = os.path.join(data_path,'simulated_data_2D_spline',patient_id,patient_subid,'static/image_data/recon_partial.nii.gz')\n",
    "        # # motion image downsampled and cropped\n",
    "        # motion_corrupted_ds_file = ''#os.path.join(data_path,'simulated_data_2D_spline',patient_id,patient_subid,'static/image_data/recon_partial_ds.nii.gz')\n",
    "        \n",
    "        # # motion parameters\n",
    "        # motion_parameter_file = ''\n",
    "\n",
    "        # # PAR\n",
    "        # PAR_folders = os.path.join(data_path,'PAR_2D_spline',patient_id,patient_subid, motion_name, 'slice_5_to_20')\n",
    "\n",
    "        # end_slice = ff.find_timeframe(PAR_folders, 0 ,'_', '/')\n",
    "        # start_slice = end_slice - 15\n",
    "                \n",
    "        # # PAR file\n",
    "        # PAR_file = os.path.join(PAR_folders,'ds', 'PARs_ds_crop.nii.gz')\n",
    "        # # apply true MVF to PAR\n",
    "        # image_from_PAR_MVF = ''#os.path.join(PAR_folders,'image_by_PAR_true_MVF', 'image_by_PAR_ds.nii.gz')\n",
    "\n",
    "\n",
    "        # Result.append([train, batch, patient_id, patient_subid, motion_name, start_slice, end_slice, motion_free_file, motion_free_ds_file, motion_corrupted_file, \n",
    "        #                     motion_corrupted_ds_file, motion_parameter_file, PAR_file, image_from_PAR_MVF])\n",
    "    \n",
    "\n",
    "    \n",
    "column_list = ['group','batch','PatientID','AccessionNumber','MotionName','PAR_start_slice', 'PAR_end_slice', 'MotionFree_File', 'MotionFreeDs_File',\n",
    "                'Motion_File', 'MotionDs_File', 'MotionParam','PAR_File','ImageFromPARMVF']\n",
    "df = pd.DataFrame(Result, columns = column_list)\n",
    "df.to_excel(os.path.join(data_path,'Patient_list/Patient_list_train_test_3D_spline_PAR_downsampled_slice20-35.xlsx'),index=False)"
   ]
  },
  {
   "attachments": {},
   "cell_type": "markdown",
   "metadata": {},
   "source": [
    "# Spreadsheet for all slices, slice thickness = 0.625mm"
   ]
  },
  {
   "cell_type": "code",
   "execution_count": 7,
   "metadata": {},
   "outputs": [],
   "source": [
    "Result = []\n",
    "random_list = np.arange(1,51,1)\n",
    "slice_list = [[60,75], [120,135], [180,195]]\n",
    "\n",
    "for i in range(0,data.shape[0]):\n",
    "    case = data.iloc[i]\n",
    "    patient_id = case['PatientID']\n",
    "    patient_subid = case['AccessionNumber']\n",
    "    batch = case['batch']\n",
    "    \n",
    "    if batch == 5:\n",
    "        train = 'test'\n",
    "    else:\n",
    "        train = 'train'\n",
    "       \n",
    "    # motion-free\n",
    "    motion_free_file = os.path.join(data_path,'raw_data/nii-images/thin_slice',patient_id,patient_subid,'img-nii-0.625/img.nii.gz')\n",
    "    assert os.path.isfile(motion_free_file) == 1\n",
    "    # motion-free downsampled and cropped\n",
    "    motion_free_ds_file = ''\n",
    "    # motion_free_ds_file = os.path.join(data_path,'simulated_data_2D_spline',patient_id,patient_subid,'static/image_data/recon_partial_ds.nii.gz')\n",
    "    # assert os.path.isfile(motion_free_ds_file) == 1\n",
    "\n",
    "    if case['ConfirmedMotion'] == False:\n",
    "\n",
    "        for j in random_list:\n",
    "            motion_name = 'random_'+ str(j)\n",
    "\n",
    "            # motion image\n",
    "            motion_corrupted_file = os.path.join(data_path,'simulated_data_3D_spline_6degrees_HR',patient_id,patient_subid,motion_name,'image_data/recon.nii.gz')\n",
    "            # assert os.path.isfile(motion_corrupted_file) == 1\n",
    "\n",
    "            # motion image downsampled and cropped\n",
    "            motion_corrupted_ds_file = ''\n",
    "            # motion_corrupted_ds_file = os.path.join(data_path,'simulated_data_2D_spline',patient_id,patient_subid,motion_name,'image_data/recon_partial_ds.nii.gz')\n",
    "\n",
    "            # motion parameters\n",
    "            motion_parameter_file = os.path.join(data_path,'simulated_data_3D_spline_6degrees_HR',patient_id,patient_subid,motion_name,'motion_parameters.npy')\n",
    "            \n",
    "            # PAR\n",
    "            PAR_folders = os.path.join(data_path,'PAR_3D_spline_6degrees_HR',patient_id,patient_subid, motion_name, 'all_slices')\n",
    "                \n",
    "            # PAR file\n",
    "            PAR_file = os.path.join(PAR_folders, 'PARs_ds_crop_anneal.nii.gz')\n",
    "            # assert os.path.isfile(PAR_file) == 1\n",
    "            \n",
    "            # apply true MVF to PAR\n",
    "            image_from_PAR_MVF = ''\n",
    "\n",
    "            for s in slice_list:\n",
    "                start_slice = s[0]\n",
    "                end_slice = s[1]\n",
    "            \n",
    "                Result.append([train, batch, patient_id, patient_subid, motion_name, start_slice, end_slice, motion_free_file, motion_free_ds_file, motion_corrupted_file, \n",
    "                                motion_corrupted_ds_file, motion_parameter_file, PAR_file, image_from_PAR_MVF])\n",
    "\n",
    "    else: # True\n",
    "        motion_name = 'real_data'\n",
    "        continue\n",
    "\n",
    "column_list = ['group','batch','PatientID','AccessionNumber','MotionName','PAR_start_slice', 'PAR_end_slice', 'MotionFree_File', 'MotionFreeDs_File',\n",
    "                'Motion_File', 'MotionDs_File', 'MotionParam','PAR_File','ImageFromPARMVF']\n",
    "df = pd.DataFrame(Result, columns = column_list)\n",
    "df.to_excel(os.path.join(data_path,'Patient_list/Patient_list_train_test_3D_spline_6degrees_PAR_downsampled_thinslicethickness.xlsx'),index=False)"
   ]
  }
 ],
 "metadata": {
  "kernelspec": {
   "display_name": "Python 3.8.10 64-bit",
   "language": "python",
   "name": "python3"
  },
  "language_info": {
   "codemirror_mode": {
    "name": "ipython",
    "version": 3
   },
   "file_extension": ".py",
   "mimetype": "text/x-python",
   "name": "python",
   "nbconvert_exporter": "python",
   "pygments_lexer": "ipython3",
   "version": "3.8.10"
  },
  "vscode": {
   "interpreter": {
    "hash": "e7370f93d1d0cde622a1f8e1c04877d8463912d04d973331ad4851f04de6915a"
   }
  }
 },
 "nbformat": 4,
 "nbformat_minor": 4
}
