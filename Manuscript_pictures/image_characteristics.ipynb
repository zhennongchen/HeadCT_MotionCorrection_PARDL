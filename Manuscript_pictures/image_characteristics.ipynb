{
 "cells": [
  {
   "cell_type": "code",
   "execution_count": 2,
   "metadata": {},
   "outputs": [],
   "source": [
    "import os\n",
    "import numpy as np\n",
    "import nibabel as nb\n",
    "import HeadCT_motion_correction_PAR.functions_collection as ff\n",
    "\n",
    "main_path = '/mnt/mount_zc_NAS/motion_correction/'"
   ]
  },
  {
   "attachments": {},
   "cell_type": "markdown",
   "metadata": {},
   "source": [
    "image pixel size and slice thickness"
   ]
  },
  {
   "cell_type": "code",
   "execution_count": 8,
   "metadata": {},
   "outputs": [
    {
     "name": "stdout",
     "output_type": "stream",
     "text": [
      "0.37304688 0.49414062 0.4411797 0.022837924\n",
      "0.5 1.25 0.63214654 0.10320864\n",
      "512 512 512.0 0.0\n"
     ]
    }
   ],
   "source": [
    "images = ff.find_all_target_files(['*/*'], os.path.join(main_path, 'data/raw_data/nii-images/thin_slice'))\n",
    "pixel_size_list = []\n",
    "slice_thickness_list = []\n",
    "dimension_x = []\n",
    "for i in images:\n",
    "    img = nb.load(os.path.join(i,'img-nii/img.nii.gz'))\n",
    "    \n",
    "    pixel_size_list.append(img.header.get_zooms()[0])\n",
    "    slice_thickness_list.append(img.header.get_zooms()[-1])\n",
    "\n",
    "    img = img.get_fdata()\n",
    "    dimension_x.append(img.shape[0])\n",
    "    \n",
    "\n",
    "print(np.min(pixel_size_list), np.max(pixel_size_list), np.mean(pixel_size_list), np.std(pixel_size_list))\n",
    "print(np.min(slice_thickness_list), np.max(slice_thickness_list), np.mean(slice_thickness_list), np.std(slice_thickness_list))\n",
    "print(np.min(dimension_x), np.max(dimension_x), np.mean(dimension_x), np.std(dimension_x))"
   ]
  }
 ],
 "metadata": {
  "kernelspec": {
   "display_name": "Python 3",
   "language": "python",
   "name": "python3"
  },
  "language_info": {
   "codemirror_mode": {
    "name": "ipython",
    "version": 3
   },
   "file_extension": ".py",
   "mimetype": "text/x-python",
   "name": "python",
   "nbconvert_exporter": "python",
   "pygments_lexer": "ipython3",
   "version": "3.8.10"
  },
  "orig_nbformat": 4,
  "vscode": {
   "interpreter": {
    "hash": "e7370f93d1d0cde622a1f8e1c04877d8463912d04d973331ad4851f04de6915a"
   }
  }
 },
 "nbformat": 4,
 "nbformat_minor": 2
}
