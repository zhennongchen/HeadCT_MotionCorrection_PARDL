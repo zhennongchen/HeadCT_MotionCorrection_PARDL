{
 "cells": [
  {
   "cell_type": "code",
   "execution_count": 2,
   "metadata": {},
   "outputs": [],
   "source": [
    "import sys\n",
    "sys.path.append('/workspace/Documents')\n",
    "import os\n",
    "import numpy as np\n",
    "import nibabel as nb\n",
    "import HeadCT_motion_correction_PAR.functions_collection as ff\n",
    "import HeadCT_motion_correction_PAR.Data_processing as dp\n",
    "\n",
    "main_path = '/mnt/camca_NAS/motion_correction'\n",
    "save_folder = os.path.join(main_path,'pictures/Manuscript')"
   ]
  },
  {
   "attachments": {},
   "cell_type": "markdown",
   "metadata": {},
   "source": [
    "# CT Image"
   ]
  },
  {
   "cell_type": "code",
   "execution_count": 37,
   "metadata": {},
   "outputs": [],
   "source": [
    "# a = nb.load(os.path.join(main_path, 'data/test_sinograms/motion.nii.gz')).get_fdata()\n",
    "a = nb.load(os.path.join(main_path, 'data/simulated_data_3D_spline/MO101701M000006/MO001A000007/random_5/image_data/recon_partial.nii.gz')).get_fdata()\n",
    "ff.save_grayscale_image(np.flip(a[:,:,15].T,0),os.path.join(save_folder,'images/06_07_static_motion_example','motion_brain_random5.png'),normalize = True, WL = 50, WW = 100)"
   ]
  },
  {
   "cell_type": "code",
   "execution_count": 34,
   "metadata": {},
   "outputs": [
    {
     "name": "stdout",
     "output_type": "stream",
     "text": [
      "(256, 256, 50)\n"
     ]
    }
   ],
   "source": [
    "a = nb.load(os.path.join(main_path, 'data/test_sinograms/static.nii.gz')).get_fdata()\n",
    "a = dp.crop_or_pad(a,[256,256,50], np.min(a))\n",
    "\n",
    "ff.save_grayscale_image(np.flip(a[64:128,64:128,15].T,0),os.path.join(save_folder,'images/06_07_static_motion_example','static_patch.png'),normalize = True, WL = 50, WW = 100)\n",
    "print(a.shape)"
   ]
  },
  {
   "attachments": {},
   "cell_type": "markdown",
   "metadata": {},
   "source": [
    "# sinograms"
   ]
  },
  {
   "cell_type": "code",
   "execution_count": 7,
   "metadata": {},
   "outputs": [],
   "source": [
    "sinogram = nb.load(os.path.join(main_path,'data/simulated_data_3D_spline','MO101701M000006/MO001A000007/random_1/projection.nii.gz')).get_fdata()"
   ]
  },
  {
   "cell_type": "code",
   "execution_count": 12,
   "metadata": {},
   "outputs": [],
   "source": [
    "ff.save_grayscale_image(sinogram[6,...],os.path.join(save_folder,'PAR/06_07_random_01','sinogram_slice6.png'),normalize = True, WL = 2.5, WW = 5)"
   ]
  },
  {
   "attachments": {},
   "cell_type": "markdown",
   "metadata": {},
   "source": [
    "# PAR image"
   ]
  },
  {
   "cell_type": "code",
   "execution_count": 27,
   "metadata": {},
   "outputs": [],
   "source": [
    "par = nb.load(os.path.join(main_path,'data/PAR_3D_spline','MO101701M000006/MO001A000007/random_1/slice_5_to_20/ds/PARs_ds_crop.nii.gz')).get_fdata()\n",
    "\n",
    "i = 24\n",
    "for j in range(0,1):\n",
    "    # I = ff.set_window(par[i,:,:,j],500,2000)\n",
    "    save_path = os.path.join(save_folder,'PAR/06_07_random_01',str(i)+'_par_slice_'+str(j)+'.png')\n",
    "    ff.save_grayscale_image(par[i,:,:,j],save_path,normalize = True, WL = 500, WW = 3000)\n",
    "    break\n",
    "\n"
   ]
  },
  {
   "attachments": {},
   "cell_type": "markdown",
   "metadata": {},
   "source": [
    "# AI image showcase"
   ]
  },
  {
   "cell_type": "code",
   "execution_count": 10,
   "metadata": {},
   "outputs": [],
   "source": [
    "static = nb.load(os.path.join(save_folder, 'images/AI_examples/motion_examples', '34-125-random3', 'static.nii.gz')).get_fdata()\n",
    "\n",
    "motion = nb.load(os.path.join(save_folder, 'images/AI_examples/motion_examples', '34-125-random3', 'motion.nii.gz')).get_fdata()\n",
    "\n",
    "cnn = nb.load(os.path.join(save_folder, 'images/AI_examples/motion_examples', '34-125-random3', 'pred_CNN.nii.gz')).get_fdata()\n",
    "\n",
    "par = nb.load(os.path.join(save_folder, 'images/AI_examples/motion_examples', '34-125-random3', 'pred_PAR_corrected.nii.gz')).get_fdata()\n"
   ]
  },
  {
   "cell_type": "code",
   "execution_count": 11,
   "metadata": {},
   "outputs": [
    {
     "name": "stdout",
     "output_type": "stream",
     "text": [
      "ssim motion, psnr motion and npmax static:  0.5672987740519494 20.51330317525686 3278.046875\n",
      "ssim cnn, psnr cnn and npmax static:  0.7126699686259067 22.864877436012975 3278.046875\n",
      "ssim par, psnr par and npmax static:  0.9793033747538414 33.431581332072724 3278.046875\n"
     ]
    }
   ],
   "source": [
    "mae, mse_motion, rmse, r_rmse, ssim_motion = ff.compare(motion[:,:,5:45], static[:,:,5:45], cutoff_low=0)\n",
    "psnr_motion = 20 * np.log10(np.max(static) / np.sqrt(mse_motion))\n",
    "\n",
    "mae, mse_cnn, rmse, r_rmse, ssim_cnn = ff.compare(cnn[:,:,5:45], static[:,:,5:45], cutoff_low=0)\n",
    "psnr_cnn = 20 * np.log10(np.max(static) / np.sqrt(mse_cnn))\n",
    "\n",
    "mae, mse_par, rmse, r_rmse, ssim_par = ff.compare(par[:,:,5:45], static[:,:,5:45], cutoff_low=0, extreme=900)\n",
    "psnr_par = 20 * np.log10(np.max(static) / np.sqrt(mse_par))\n",
    "\n",
    "print('ssim motion, psnr motion and npmax static: ', ssim_motion, psnr_motion, np.max(static))\n",
    "print('ssim cnn, psnr cnn and npmax static: ', ssim_cnn, psnr_cnn, np.max(static))\n",
    "print('ssim par, psnr par and npmax static: ', ssim_par, psnr_par, np.max(static))"
   ]
  },
  {
   "cell_type": "code",
   "execution_count": 27,
   "metadata": {},
   "outputs": [],
   "source": [
    "a = np.copy(cnn)\n",
    "# a = dp.crop_or_pad(a,[200,200,50], np.min(a))\n",
    "\n",
    "ff.save_grayscale_image(np.flip(a[:,:,10].T,0),os.path.join(save_folder,'images/AI_examples/10-16-random5','10-16-random5-slice10-cnn-brain.png'),normalize = True, WL = 50, WW = 100)"
   ]
  },
  {
   "cell_type": "code",
   "execution_count": 34,
   "metadata": {},
   "outputs": [],
   "source": [
    "c = np.copy(cnn)\n",
    "ff.save_grayscale_image(np.flip(c[92 - 30 : 92 + 30 ,113 - 30: 113 + 30 , 10].T,0),os.path.join(save_folder,'images/AI_examples/10-16-random5','10-16-slice10-partial-cnn.png'),normalize = True, WL = 50, WW = 100)"
   ]
  },
  {
   "cell_type": "code",
   "execution_count": null,
   "metadata": {},
   "outputs": [],
   "source": [
    "# 39-100-random1\n",
    "# a = np.copy(cnn)\n",
    "# a = dp.crop_or_pad(a,[200,200,50], np.min(a))\n",
    "# ff.save_grayscale_image(np.flip(a[:,:,17].T,0),os.path.join(save_folder,'images/AI_examples/39-100-random1','39-100-random1-slice17-cnn-brain.png'),normalize = True, WL = 50, WW = 100)\n",
    "# c = np.copy(cnn)\n",
    "# ff.save_grayscale_image(np.flip(c[64 - 30 : 64 + 30 ,78 - 30: 78 + 30 , 17].T,0),os.path.join(save_folder,'images/AI_examples/39-100-random1','39-100-slice17-partial-cnn.png'),normalize = True, WL = 50, WW = 100)\n",
    "\n",
    "\n",
    "# 06-07-random3\n",
    "# a = np.copy(cnn)\n",
    "# ff.save_grayscale_image(np.flip(a[:,:,29].T,0),os.path.join(save_folder,'images/AI_examples/06-07-random3','06-07-random3-slice29-cnn-brain.png'),normalize = True, WL = 50, WW = 100)\n",
    "# c = np.copy(cnn)\n",
    "# ff.save_grayscale_image(np.flip(c[129 - 30 : 129 + 30 ,183 - 30: 183 + 30 , 29].T,0),os.path.join(save_folder,'images/AI_examples/06-07-random3','06-07-slice29-partial-cnn.png'),normalize = True, WL = 50, WW = 100)\n",
    "\n",
    "# 34-125-random3\n",
    "# a = np.copy(cnn)\n",
    "# a = dp.crop_or_pad(a,[200,200,50], np.min(a))\n",
    "# ff.save_grayscale_image(np.flip(a[:,:,45].T,0),os.path.join(save_folder,'images/AI_examples/34-125-random3','34-125-random3-slice45-cnn-bone.png'),normalize = True, WL = 500, WW = 2000)\n",
    "# c = np.copy(cnn)\n",
    "# ff.save_grayscale_image(np.flip(c[53 - 30 : 53 + 30 ,64 - 30: 64 + 30 , 45].T,0),os.path.join(save_folder,'images/AI_examples/34-125-random3','34-125-slice45-partial-cnn.png'),normalize = True, WL = 500, WW = 2000)\n",
    "\n",
    "\n",
    "# 10-16-random5\n",
    "# a = np.copy(cnn)\n",
    "# ff.save_grayscale_image(np.flip(a[:,:,10].T,0),os.path.join(save_folder,'images/AI_examples/10-16-random5','10-16-random5-slice10-cnn-brain.png'),normalize = True, WL = 50, WW = 100)\n",
    "# c = np.copy(cnn)\n",
    "# ff.save_grayscale_image(np.flip(c[92 - 30 : 92 + 30 ,113 - 30: 113 + 30 , 10].T,0),os.path.join(save_folder,'images/AI_examples/10-16-random5','10-16-slice10-partial-cnn.png'),normalize = True, WL = 50, WW = 100)\n"
   ]
  },
  {
   "attachments": {},
   "cell_type": "markdown",
   "metadata": {},
   "source": [
    "# Phantom image"
   ]
  },
  {
   "cell_type": "code",
   "execution_count": 36,
   "metadata": {},
   "outputs": [],
   "source": [
    "main_folder = os.path.join('/mnt/camca_NAS/motion_correction/data/phantom_data/study_0')\n",
    "par = nb.load(os.path.join(main_folder, 'PAR_corrected_ibc_idr.nii.gz')).get_fdata()\n",
    "\n",
    "cnn = nb.load('/mnt/camca_NAS/motion_correction/predict/phantom_data/images/study_0/pred_CNN_new.nii.gz').get_fdata()\n",
    "\n",
    "static = nb.load('/mnt/camca_NAS/head_phantom_raw/processed/study_4/scan4/processed_0/recon_cropped/recon_ibc_idr_partial.nii.gz').get_fdata()\n",
    "\n",
    "move = nb.load(os.path.join(main_folder, 'simulated_imgs_resampled/recon_motion_ibc_idr_partial.nii.gz')).get_fdata()"
   ]
  },
  {
   "cell_type": "code",
   "execution_count": 46,
   "metadata": {},
   "outputs": [],
   "source": [
    "# full image\n",
    "c = np.copy(cnn)\n",
    "# c = dp.crop_or_pad(c,[230,230,50],value = np.min(c)),[-10,0,0]\n",
    "ff.save_grayscale_image(c[165 - 115:165 + 115,154 - 115:154 + 115,10].T,os.path.join(save_folder,'phantom/slice10-cnn-bone.png'),normalize = True, WL = 500, WW = 2000)"
   ]
  },
  {
   "cell_type": "code",
   "execution_count": 47,
   "metadata": {},
   "outputs": [],
   "source": [
    "# zoom-in\n",
    "c = np.copy(cnn)\n",
    "# c = dp.crop_or_pad(c,[230,230,50],value = np.min(c)),[-10,0,0]\n",
    "ff.save_grayscale_image(c[144 - 30:144 + 30,134 - 30:134 + 30,10].T,os.path.join(save_folder,'phantom/slice10-partial-cnn-bone.png'),normalize = True, WL = 500, WW = 2000)"
   ]
  },
  {
   "cell_type": "code",
   "execution_count": null,
   "metadata": {},
   "outputs": [],
   "source": [
    "# slice 35\n",
    "# full image\n",
    "# c = np.copy(cnn)\n",
    "# ff.save_grayscale_image(c[165 - 115:165 + 115,154 - 115:154 + 115,35].T,os.path.join(save_folder,'phantom/slice35-cnn-brain.png'),normalize = True, WL = 50, WW = 100)\n",
    "# # zoom-in\n",
    "# c = np.copy(cnn)\n",
    "# ff.save_grayscale_image(c[133 - 30:133 + 30,166 - 30:166 + 30,35].T,os.path.join(save_folder,'phantom/slice35-partial-cnn-brain.png'),normalize = True, WL = 50, WW = 100)\n",
    "\n",
    "\n",
    "# slice 22\n",
    "# # full image\n",
    "# c = np.copy(cnn)\n",
    "# ff.save_grayscale_image(c[165 - 115:165 + 115,154 - 115:154 + 115,22].T,os.path.join(save_folder,'phantom/slice22-cnn-brain.png'),normalize = True, WL = 50, WW = 100)\n",
    "# # zoom-in\n",
    "# c = np.copy(cnn)\n",
    "# ff.save_grayscale_image(c[150 - 30:150 + 30,124 - 30:124 + 30,22].T,os.path.join(save_folder,'phantom/slice22-partial-cnn-brain.png'),normalize = True, WL = 50, WW = 100)\n",
    "\n",
    "# slice 10\n",
    "# full image\n",
    "# c = np.copy(cnn)\n",
    "# ff.save_grayscale_image(c[165 - 115:165 + 115,154 - 115:154 + 115,10].T,os.path.join(save_folder,'phantom/slice10-cnn-bone.png'),normalize = True, WL = 500, WW = 2000)\n",
    "# # zoom-in\n",
    "# c = np.copy(cnn)\n",
    "# ff.save_grayscale_image(c[144 - 30:144 + 30,134 - 30:134 + 30,10].T,os.path.join(save_folder,'phantom/slice10-partial-cnn-bone.png'),normalize = True, WL = 500, WW = 2000)"
   ]
  }
 ],
 "metadata": {
  "kernelspec": {
   "display_name": "Python 3",
   "language": "python",
   "name": "python3"
  },
  "language_info": {
   "codemirror_mode": {
    "name": "ipython",
    "version": 3
   },
   "file_extension": ".py",
   "mimetype": "text/x-python",
   "name": "python",
   "nbconvert_exporter": "python",
   "pygments_lexer": "ipython3",
   "version": "3.8.10"
  },
  "orig_nbformat": 4,
  "vscode": {
   "interpreter": {
    "hash": "e7370f93d1d0cde622a1f8e1c04877d8463912d04d973331ad4851f04de6915a"
   }
  }
 },
 "nbformat": 4,
 "nbformat_minor": 2
}
