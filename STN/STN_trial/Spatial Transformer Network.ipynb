{
 "cells": [
  {
   "cell_type": "markdown",
   "metadata": {},
   "source": [
    "refer to https://github.com/dedhiaparth98/spatial-transformer-network/blob/main/Visualizing-STN-MNIST.ipynb"
   ]
  },
  {
   "cell_type": "code",
   "execution_count": null,
   "metadata": {
    "executionInfo": {
     "elapsed": 3237,
     "status": "ok",
     "timestamp": 1608050797824,
     "user": {
      "displayName": "Parth Dedhia",
      "photoUrl": "",
      "userId": "15098257602324158403"
     },
     "user_tz": -330
    },
    "id": "nzq9rJFWUhhe"
   },
   "outputs": [],
   "source": [
    "from sklearn.model_selection import train_test_split\n",
    "from matplotlib import pyplot as plt\n",
    "from scipy.io.matlab import loadmat\n",
    "import tensorflow as tf\n",
    "\n",
    "# tf.compat.v1.enable_eager_execution()\n",
    "# tf.config.run_functions_eagerly(True)\n",
    "\n",
    "import numpy as np\n",
    "import datetime\n",
    "import os\n",
    "\n",
    "import HeadCT_motion_correction_PAR.motion_simulator.transformation as transform\n",
    "%load_ext tensorboard"
   ]
  },
  {
   "cell_type": "code",
   "execution_count": null,
   "metadata": {
    "colab": {
     "base_uri": "https://localhost:8080/"
    },
    "executionInfo": {
     "elapsed": 10676,
     "status": "ok",
     "timestamp": 1608050805273,
     "user": {
      "displayName": "Parth Dedhia",
      "photoUrl": "",
      "userId": "15098257602324158403"
     },
     "user_tz": -330
    },
    "id": "JFKCqGbRpn48",
    "outputId": "11271d79-726a-4c1b-9d7e-131892bf5eb2"
   },
   "outputs": [],
   "source": [
    "# !wget -c https://www.cs.toronto.edu/~tijmen/affNIST/32x/transformed/training_and_validation_batches.zip\n",
    "# import zipfile\n",
    "# zfile = os.path.join('/mnt/mount_zc_NAS/MNIST/training_and_validation_batches.zip')\n",
    "# with zipfile.ZipFile(zfile,\"r\") as zip_ref:\n",
    "#     zip_ref.extractall(\"/mnt/mount_zc_NAS/MNIST/\")\n",
    "# # ! unzip training_and_validation_batches.zip"
   ]
  },
  {
   "cell_type": "code",
   "execution_count": null,
   "metadata": {
    "executionInfo": {
     "elapsed": 78115,
     "status": "ok",
     "timestamp": 1608050872722,
     "user": {
      "displayName": "Parth Dedhia",
      "photoUrl": "",
      "userId": "15098257602324158403"
     },
     "user_tz": -330
    },
    "id": "pMOyoEATUy5H"
   },
   "outputs": [],
   "source": [
    "batch_size = 256\n",
    "epochs = 100"
   ]
  },
  {
   "cell_type": "markdown",
   "metadata": {},
   "source": [
    "3D version of STN"
   ]
  },
  {
   "cell_type": "code",
   "execution_count": null,
   "metadata": {
    "executionInfo": {
     "elapsed": 82368,
     "status": "ok",
     "timestamp": 1608050876981,
     "user": {
      "displayName": "Parth Dedhia",
      "photoUrl": "",
      "userId": "15098257602324158403"
     },
     "user_tz": -330
    },
    "id": "KUzuKHOZykwa"
   },
   "outputs": [],
   "source": [
    "image_path = '/mnt/mount_zc_NAS/MNIST/training_and_validation_batches/1.mat'\n",
    "temp = loadmat(image_path)\n",
    "\n",
    "x = temp['affNISTdata']['image'][0][0].reshape(40, 40, -1)\n",
    "# make pseudo-3D image\n",
    "print(x.shape)\n",
    "x_3d = np.zeros((x.shape[0],x.shape[1],3, x.shape[2]))\n",
    "\n",
    "for i in range(0,x.shape[-1]):\n",
    "    x_3d[:,:,0,i] = x[:,:,i]\n",
    "    x_3d[:,:,1,i] = x[:,:,i]\n",
    "    x_3d[:,:,2,i] = x[:,:,i]\n",
    "print(x_3d.shape)\n",
    "x = np.moveaxis(x_3d, -1, 0)\n",
    "x = np.expand_dims(x, axis=-1)\n",
    "print(x.shape)\n",
    "x = x/255.0\n",
    "\n",
    "y = temp['affNISTdata']['label_int'][0][0]\n",
    "y = np.moveaxis(y, -1, 0)\n",
    "print(y.shape)\n",
    "y = y.astype(np.int32)"
   ]
  },
  {
   "cell_type": "code",
   "execution_count": null,
   "metadata": {
    "executionInfo": {
     "elapsed": 82366,
     "status": "ok",
     "timestamp": 1608050876984,
     "user": {
      "displayName": "Parth Dedhia",
      "photoUrl": "",
      "userId": "15098257602324158403"
     },
     "user_tz": -330
    },
    "id": "qQAadNcxpz18"
   },
   "outputs": [],
   "source": [
    "X_train, X_test, y_train, y_test = train_test_split(x, y, test_size=0.1, random_state=42)\n",
    "X_train = X_train[0:10000,...]\n",
    "y_train = y_train[0:10000,...]\n",
    "print(X_train.shape, X_test.shape)"
   ]
  },
  {
   "cell_type": "code",
   "execution_count": null,
   "metadata": {
    "executionInfo": {
     "elapsed": 87791,
     "status": "ok",
     "timestamp": 1608050882413,
     "user": {
      "displayName": "Parth Dedhia",
      "photoUrl": "",
      "userId": "15098257602324158403"
     },
     "user_tz": -330
    },
    "id": "lxLJ1KO_02VB"
   },
   "outputs": [],
   "source": [
    "mnist_train_ds = tf.data.Dataset.from_tensor_slices((X_train, y_train))\n",
    "mnist_train_ds = mnist_train_ds.shuffle(5000).batch(batch_size)"
   ]
  },
  {
   "cell_type": "code",
   "execution_count": null,
   "metadata": {
    "executionInfo": {
     "elapsed": 87791,
     "status": "ok",
     "timestamp": 1608050882416,
     "user": {
      "displayName": "Parth Dedhia",
      "photoUrl": "",
      "userId": "15098257602324158403"
     },
     "user_tz": -330
    },
    "id": "kDqeTCG7U4Gn"
   },
   "outputs": [],
   "source": [
    "class Localization(tf.keras.layers.Layer):\n",
    "    def __init__(self):\n",
    "        super(Localization, self).__init__()\n",
    "        self.pool1 = tf.keras.layers.MaxPool3D(pool_size=(2,2,1))\n",
    "        self.conv1 = tf.keras.layers.Conv3D(20, [3,3,1], activation='relu')\n",
    "        self.pool2 = tf.keras.layers.MaxPool3D(pool_size=(2,2,1))\n",
    "        self.conv2 = tf.keras.layers.Conv3D(20, [3,3,1], activation='relu')\n",
    "        self.flatten = tf.keras.layers.Flatten()\n",
    "        self.fc1 = tf.keras.layers.Dense(20, activation='relu')\n",
    "        self.fc2 = tf.keras.layers.Dense(6, activation=None, bias_initializer=tf.keras.initializers.constant([1.0, 0.0, 0.0, 0.0, 1.0, 0.0]), kernel_initializer='zeros')\n",
    "\n",
    "    def build(self, input_shape):\n",
    "        print(\"Building Localization Network with input shape:\", input_shape)\n",
    "\n",
    "    def compute_output_shape(self, input_shape):\n",
    "        return [None, 6]\n",
    "\n",
    "    def call(self, inputs):\n",
    "        x = self.conv1(inputs)\n",
    "        x = self.pool1(x)\n",
    "        x = self.conv2(x)\n",
    "        x = self.pool2(x)\n",
    "        x = self.flatten(x)\n",
    "        x = self.fc1(x)\n",
    "        theta = self.fc2(x)\n",
    "        theta = tf.keras.layers.Reshape((2, 3))(theta)\n",
    "        return theta"
   ]
  },
  {
   "cell_type": "code",
   "execution_count": null,
   "metadata": {
    "executionInfo": {
     "elapsed": 87789,
     "status": "ok",
     "timestamp": 1608050882417,
     "user": {
      "displayName": "Parth Dedhia",
      "photoUrl": "",
      "userId": "15098257602324158403"
     },
     "user_tz": -330
    },
    "id": "vHLT9xb-XRwo"
   },
   "outputs": [],
   "source": [
    "class BilinearInterpolation(tf.keras.layers.Layer):\n",
    "    def __init__(self, height=40, width=40):\n",
    "        super(BilinearInterpolation, self).__init__()\n",
    "        self.height = height\n",
    "        self.width = width\n",
    "\n",
    "    def compute_output_shape(self, input_shape):\n",
    "        return [None, self.height, self.width, 1]\n",
    "\n",
    "    def get_config(self):\n",
    "        return {\n",
    "            'height': self.height,\n",
    "            'width': self.width,\n",
    "        }\n",
    "    \n",
    "    def build(self, input_shape):\n",
    "        print(\"Building Bilinear Interpolation Layer with input shape:\", input_shape)\n",
    "\n",
    "    def advance_indexing(self, inputs, x, y):\n",
    "        '''\n",
    "        Numpy like advance indexing is not supported in tensorflow, hence, this function is a hack around the same method\n",
    "        '''      \n",
    "      \n",
    "        shape = tf.shape(inputs)\n",
    "        batch_size, _, _ = shape[0], shape[1], shape[2] # input (batch_size, height, width, channel)\n",
    "        \n",
    "        batch_idx = tf.range(0, batch_size)\n",
    "        batch_idx = tf.reshape(batch_idx, (batch_size, 1, 1))\n",
    "        b = tf.tile(batch_idx, (1, self.height, self.width)) # shape (batch_size, height, width)\n",
    "        indices = tf.stack([b, y,x], 3) # shape (batch_size, height, width, 3)\n",
    "\n",
    "        return tf.gather_nd(inputs, indices) # Important!: shape(batch_size, height, width, 1), value of these indices in the inputs image\n",
    "\n",
    "    def call(self, inputs):\n",
    "        images, theta = inputs\n",
    "        homogenous_coordinates = self.grid_generator(batch=tf.shape(images)[0])\n",
    "        return self.interpolate(images, homogenous_coordinates, theta)\n",
    "\n",
    "    def grid_generator(self, batch):\n",
    "        x = tf.linspace(-1, 1, self.width) # normalization\n",
    "        y = tf.linspace(-1, 1, self.height)\n",
    "            \n",
    "        xx, yy = tf.meshgrid(x, y) # xx shape (height,width)\n",
    "        xx = tf.reshape(xx, (-1,)) # flatten\n",
    "        yy = tf.reshape(yy, (-1,))\n",
    "        homogenous_coordinates = tf.stack([xx, yy, tf.ones_like(xx)]) # add the channel, shape (3, height*width)\n",
    "        homogenous_coordinates = tf.expand_dims(homogenous_coordinates, axis=0) # shape (1, 3, height*width)\n",
    "        homogenous_coordinates = tf.tile(homogenous_coordinates, [batch, 1, 1]) # shape (batch_size, 3, height*width)\n",
    "        homogenous_coordinates = tf.cast(homogenous_coordinates, dtype=tf.float32)\n",
    "        return homogenous_coordinates\n",
    "    \n",
    "    def interpolate(self, images, homogenous_coordinates, theta):\n",
    "\n",
    "        with tf.name_scope(\"Transformation\"):\n",
    "            transformed = tf.matmul(theta, homogenous_coordinates) # theta shape (2,3), coordinates shape (batch_size,3,height*width), transformed shape (batch_size, 2, height*width)\n",
    "            transformed = tf.transpose(transformed, perm=[0, 2, 1])\n",
    "            transformed = tf.reshape(transformed, [-1, self.height, self.width, 2]) # (batch_size, height, width, 2) 2 here represents x and y\n",
    "            \n",
    "            x_transformed = transformed[:, :, :, 0] \n",
    "            y_transformed = transformed[:, :, :, 1]\n",
    "    \n",
    "            # previously we have converted the coordinate system into -1 to 1, here we convert it back.\n",
    "            x = ((x_transformed + 1.) * tf.cast(self.width, dtype=tf.float32)) * 0.5\n",
    "            y = ((y_transformed + 1.) * tf.cast(self.height, dtype=tf.float32)) * 0.5\n",
    "    \n",
    "        with tf.name_scope(\"VariableCasting\"):\n",
    "            x0 = tf.cast(tf.math.floor(x), dtype=tf.int32)\n",
    "            x1 = x0 + 1\n",
    "            y0 = tf.cast(tf.math.floor(y), dtype=tf.int32)\n",
    "            y1 = y0 + 1\n",
    "            \n",
    "            x0 = tf.clip_by_value(x0, 0, self.width-1)\n",
    "            x1 = tf.clip_by_value(x1, 0, self.width-1)\n",
    "            y0 = tf.clip_by_value(y0, 0, self.height-1)\n",
    "            y1 = tf.clip_by_value(y1, 0, self.height-1)\n",
    "            x = tf.clip_by_value(x, 0, tf.cast(self.width, dtype=tf.float32)-1.0)\n",
    "            y = tf.clip_by_value(y, 0, tf.cast(self.height, dtype=tf.float32)-1)\n",
    "\n",
    "        with tf.name_scope(\"AdvanceIndexing\"):\n",
    "            Ia = self.advance_indexing(images, x0, y0)\n",
    "            Ib = self.advance_indexing(images, x0, y1)\n",
    "            Ic = self.advance_indexing(images, x1, y0)\n",
    "            Id = self.advance_indexing(images, x1, y1)\n",
    "\n",
    "        with tf.name_scope(\"Interpolation\"): # bilinear interpolation\n",
    "            x0 = tf.cast(x0, dtype=tf.float32)\n",
    "            x1 = tf.cast(x1, dtype=tf.float32)\n",
    "            y0 = tf.cast(y0, dtype=tf.float32)\n",
    "            y1 = tf.cast(y1, dtype=tf.float32)\n",
    "                            \n",
    "            wa = (x1-x) * (y1-y)\n",
    "            wb = (x1-x) * (y-y0)\n",
    "            wc = (x-x0) * (y1-y)\n",
    "            wd = (x-x0) * (y-y0)\n",
    "\n",
    "            wa = tf.expand_dims(wa, axis=3)\n",
    "            wb = tf.expand_dims(wb, axis=3)\n",
    "            wc = tf.expand_dims(wc, axis=3)\n",
    "            wd = tf.expand_dims(wd, axis=3)\n",
    "                        \n",
    "        return tf.math.add_n([wa*Ia + wb*Ib + wc*Ic + wd*Id])"
   ]
  },
  {
   "cell_type": "code",
   "execution_count": null,
   "metadata": {
    "executionInfo": {
     "elapsed": 87783,
     "status": "ok",
     "timestamp": 1608050882418,
     "user": {
      "displayName": "Parth Dedhia",
      "photoUrl": "",
      "userId": "15098257602324158403"
     },
     "user_tz": -330
    },
    "id": "dVKbN4blnQ3V"
   },
   "outputs": [],
   "source": [
    "image = np.zeros((2, 40, 40, 3, 1))\n",
    "image[:, 15:25, 15:25, :,:] = 1\n",
    "\n",
    "t = [0,0]\n",
    "# define rotation\n",
    "r = 20\n",
    "r = r/180 * np.pi \n",
    "\n",
    "translation,rotation,scale,transformation_matrix = transform.generate_transform_matrix(t,r,[1,1],image[0,:,:,0,0].shape)\n",
    "transformation_matrix = transform.transform_full_matrix_offset_center(transformation_matrix, image[0,:,:,0,0].shape)\n",
    "transformation_matrix = transformation_matrix[:2,...]\n",
    "img_t = transform.apply_affine_transform(image[0,:,:,0,0], transformation_matrix, 3 )\n",
    "plt.figure(figsize = (8,4))\n",
    "plt.subplot(121); plt.imshow(image[0,:,:,0,0], 'gray')\n",
    "plt.subplot(122); plt.imshow(img_t, 'gray')\n",
    "print(transformation_matrix)"
   ]
  },
  {
   "cell_type": "code",
   "execution_count": null,
   "metadata": {},
   "outputs": [],
   "source": [
    "bi = BilinearInterpolation(height=40, width = 40)\n",
    "# translation should be normalized to -1 to 1!!!!!\n",
    "# no need to do offset\n",
    "tt = t\n",
    "_,_,_,transformation_matrix_n = transform.generate_transform_matrix([ttt / 40 * 2 for ttt in tt],r,[1,1],image[0,:,:,0,0].shape)  \n",
    "transformation_matrix_n = transformation_matrix_n[0:2,:]\n",
    "print(transformation_matrix_n)\n",
    "\n",
    "# roll axis:\n",
    "image_r = np.rollaxis(image, -2, 0) # input should be (slice_num, batch_size, height, width,channel_num )\n",
    "print(image_r.shape)\n",
    "\n",
    "array = [bi([ii , transformation_matrix_n]) \n",
    "            for ii in image_r\n",
    "        ]\n",
    "array = np.stack(array, axis=0)\n",
    "\n",
    "result = np.rollaxis(array, 0, -1)\n",
    "print(result.shape)"
   ]
  },
  {
   "cell_type": "code",
   "execution_count": null,
   "metadata": {
    "colab": {
     "base_uri": "https://localhost:8080/",
     "height": 285
    },
    "executionInfo": {
     "elapsed": 89922,
     "status": "ok",
     "timestamp": 1608050884565,
     "user": {
      "displayName": "Parth Dedhia",
      "photoUrl": "",
      "userId": "15098257602324158403"
     },
     "user_tz": -330
    },
    "id": "56q_hEEwoqzD",
    "outputId": "fb7e2b4f-12ba-4858-8799-2743d9a160e0"
   },
   "outputs": [],
   "source": [
    "plt.subplot(2, 2, 1)\n",
    "plt.imshow(image[0, :, :, 0, 0], cmap='gray')\n",
    "\n",
    "plt.subplot(2, 2, 2)\n",
    "plt.imshow(image[0, :, :, 1, 0], cmap='gray')\n",
    "\n",
    "plt.subplot(2, 2, 3)\n",
    "plt.imshow(result[0, :, :, 0 ,0], cmap='gray')\n",
    "\n",
    "plt.subplot(2, 2, 4)\n",
    "plt.imshow(result[1, :, :,1, 0], cmap='gray')"
   ]
  },
  {
   "cell_type": "code",
   "execution_count": null,
   "metadata": {
    "executionInfo": {
     "elapsed": 89918,
     "status": "ok",
     "timestamp": 1608050884566,
     "user": {
      "displayName": "Parth Dedhia",
      "photoUrl": "",
      "userId": "15098257602324158403"
     },
     "user_tz": -330
    },
    "id": "CK-GWfCDj0bS"
   },
   "outputs": [],
   "source": [
    "def get_model(input_shape):\n",
    "    image = tf.keras.layers.Input(shape=input_shape)\n",
    "    theta = Localization()(image)\n",
    "    print(theta.shape)\n",
    "\n",
    "    # get theta by each neuron\n",
    "    t1 = theta[...,0,0]; t1 = tf.reshape(t1,[-1,1,1])\n",
    "    print(t1.shape)\n",
    "    # t2 = theta[...,0,1]; t2 = tf.reshape(t2,[-1,1,1])\n",
    "    t2 = tf.zeros_like(t1)\n",
    "    print(t2.shape)\n",
    "    print(t2)\n",
    "    t3 = theta[...,0,2]; t3 = tf.reshape(t3,[-1,1,1])\n",
    "    t4 = theta[...,1,0]; t4 = tf.reshape(t2,[-1,1,1])\n",
    "    t5 = theta[...,1,1]; t5 = tf.reshape(t5,[-1,1,1])\n",
    "    t6 = theta[...,1,2]; t6 = tf.reshape(t6,[-1,1,1])\n",
    "    first_row = tf.concat([t1,t2,t3],axis = 2)\n",
    "    second_row = tf.concat([t4,t5,t6],axis = 2)\n",
    "    theta_c = tf.concat([first_row,second_row],axis = 1)\n",
    "    print(theta_c.shape)\n",
    "    \n",
    "    # do STN for each slice:\n",
    "    image_r = tf.transpose(image, [3,0,1,2,4])\n",
    "    array = [BilinearInterpolation(height=input_shape[0], width=input_shape[1])([ii, theta_c])for ii in image_r]\n",
    "    array = tf.stack(array, axis=0)\n",
    "    x = tf.transpose(array, [1,2,3,0,4])\n",
    "\n",
    "    # x = BilinearInterpolation(height=input_shape[0], width=input_shape[1])([image, theta])\n",
    "    x = tf.keras.layers.Conv3D(64, [9, 9, 1], activation='relu', name = 'first_conv3d')(x)\n",
    "    x = tf.keras.layers.MaxPool3D(pool_size = (2,2,1))(x)\n",
    "    x = tf.keras.layers.Conv3D(64, [7, 7, 1], activation='relu')(x)\n",
    "    x = tf.keras.layers.MaxPool3D(pool_size = (2,2,1))(x)\n",
    "    x = tf.keras.layers.Flatten()(x)\n",
    "    x = tf.keras.layers.Dense(64, activation='relu')(x)\n",
    "    x = tf.keras.layers.Dense(32, activation='relu')(x)\n",
    "    x = tf.keras.layers.Dense(10, activation='softmax')(x)\n",
    "\n",
    "    return tf.keras.models.Model(inputs=image, outputs=x)"
   ]
  },
  {
   "cell_type": "code",
   "execution_count": null,
   "metadata": {
    "colab": {
     "base_uri": "https://localhost:8080/"
    },
    "executionInfo": {
     "elapsed": 90488,
     "status": "ok",
     "timestamp": 1608050885140,
     "user": {
      "displayName": "Parth Dedhia",
      "photoUrl": "",
      "userId": "15098257602324158403"
     },
     "user_tz": -330
    },
    "id": "AeK2ggXmkRQC",
    "outputId": "53603a5e-8399-47c5-baf4-63b615b4b438"
   },
   "outputs": [],
   "source": [
    "model = get_model((40, 40, 3,1))"
   ]
  },
  {
   "cell_type": "code",
   "execution_count": null,
   "metadata": {
    "colab": {
     "base_uri": "https://localhost:8080/"
    },
    "executionInfo": {
     "elapsed": 90487,
     "status": "ok",
     "timestamp": 1608050885143,
     "user": {
      "displayName": "Parth Dedhia",
      "photoUrl": "",
      "userId": "15098257602324158403"
     },
     "user_tz": -330
    },
    "id": "xPjxmY6zmGBk",
    "outputId": "a7de3248-d0e2-4603-fc6e-dec303b78a68"
   },
   "outputs": [],
   "source": [
    "model.summary()"
   ]
  },
  {
   "cell_type": "code",
   "execution_count": null,
   "metadata": {
    "executionInfo": {
     "elapsed": 90484,
     "status": "ok",
     "timestamp": 1608050885145,
     "user": {
      "displayName": "Parth Dedhia",
      "photoUrl": "",
      "userId": "15098257602324158403"
     },
     "user_tz": -330
    },
    "id": "oSTK-Bemowwl"
   },
   "outputs": [],
   "source": [
    "model.compile(\n",
    "    optimizer='adam',\n",
    "    loss=tf.keras.losses.SparseCategoricalCrossentropy(from_logits=True),\n",
    "    metrics=['accuracy']\n",
    ")"
   ]
  },
  {
   "cell_type": "code",
   "execution_count": null,
   "metadata": {
    "executionInfo": {
     "elapsed": 90482,
     "status": "ok",
     "timestamp": 1608050885146,
     "user": {
      "displayName": "Parth Dedhia",
      "photoUrl": "",
      "userId": "15098257602324158403"
     },
     "user_tz": -330
    },
    "id": "3EWsnlwYu4SM"
   },
   "outputs": [],
   "source": [
    "def schedular(epoch, lr):\n",
    "    if epoch % 20 == 0 and epoch > 0:\n",
    "        print(\"Learning Rate Updated\")\n",
    "        lr /= 10\n",
    "    return lr"
   ]
  },
  {
   "cell_type": "code",
   "execution_count": null,
   "metadata": {
    "executionInfo": {
     "elapsed": 90890,
     "status": "ok",
     "timestamp": 1608050885557,
     "user": {
      "displayName": "Parth Dedhia",
      "photoUrl": "",
      "userId": "15098257602324158403"
     },
     "user_tz": -330
    },
    "id": "DPRiMpdtu7OR"
   },
   "outputs": [],
   "source": [
    "log_dir = \"logs/fit/\" + datetime.datetime.now().strftime(\"%Y%m%d-%H%M%S\")\n",
    "tensorboard_callback = tf.keras.callbacks.TensorBoard(log_dir=log_dir, histogram_freq=1)\n",
    "learning_rate_callback = tf.keras.callbacks.LearningRateScheduler(schedular)"
   ]
  },
  {
   "cell_type": "code",
   "execution_count": null,
   "metadata": {
    "colab": {
     "base_uri": "https://localhost:8080/"
    },
    "executionInfo": {
     "elapsed": 1337418,
     "status": "ok",
     "timestamp": 1608052132088,
     "user": {
      "displayName": "Parth Dedhia",
      "photoUrl": "",
      "userId": "15098257602324158403"
     },
     "user_tz": -330
    },
    "id": "syvXizCWu_eV",
    "outputId": "379c553b-0271-45c1-dacc-ee0c71953f6f"
   },
   "outputs": [],
   "source": [
    "history = model.fit(mnist_train_ds, epochs=epochs, callbacks=[tensorboard_callback, learning_rate_callback])"
   ]
  },
  {
   "cell_type": "code",
   "execution_count": null,
   "metadata": {
    "executionInfo": {
     "elapsed": 1337979,
     "status": "ok",
     "timestamp": 1608052132655,
     "user": {
      "displayName": "Parth Dedhia",
      "photoUrl": "",
      "userId": "15098257602324158403"
     },
     "user_tz": -330
    },
    "id": "8wjXyZFSvDzN"
   },
   "outputs": [],
   "source": [
    "model.save_weights('./model/weights', save_format='tf')"
   ]
  },
  {
   "cell_type": "code",
   "execution_count": null,
   "metadata": {},
   "outputs": [],
   "source": [
    "print(model.layers[1], model.get_layer('first_conv3d'), model.get_layer('tf.concat_18'))"
   ]
  },
  {
   "cell_type": "code",
   "execution_count": null,
   "metadata": {
    "executionInfo": {
     "elapsed": 1337978,
     "status": "ok",
     "timestamp": 1608052132657,
     "user": {
      "displayName": "Parth Dedhia",
      "photoUrl": "",
      "userId": "15098257602324158403"
     },
     "user_tz": -330
    },
    "id": "YnN-qdPlv7yc"
   },
   "outputs": [],
   "source": [
    "# stn = tf.keras.models.Model(inputs=model.inputs, outputs=[model.layers[1].output, model.layers[2].output])\n",
    "stn = tf.keras.models.Model(inputs=model.inputs, outputs=[model.layers[1].output, model.get_layer('tf.concat_18').output, model.get_layer('tf.compat.v1.transpose_9').output])"
   ]
  },
  {
   "cell_type": "code",
   "execution_count": null,
   "metadata": {
    "executionInfo": {
     "elapsed": 1339533,
     "status": "ok",
     "timestamp": 1608052134214,
     "user": {
      "displayName": "Parth Dedhia",
      "photoUrl": "",
      "userId": "15098257602324158403"
     },
     "user_tz": -330
    },
    "id": "_0lMBp2Ww7dY"
   },
   "outputs": [],
   "source": [
    "theta_original, theta_changed, prediction = stn.predict(X_test)\n",
    "print(theta_original.shape, theta_original[0,...], theta_changed[0,...])\n",
    "print(prediction.shape)"
   ]
  },
  {
   "cell_type": "code",
   "execution_count": null,
   "metadata": {
    "colab": {
     "base_uri": "https://localhost:8080/",
     "height": 321
    },
    "executionInfo": {
     "elapsed": 1339537,
     "status": "ok",
     "timestamp": 1608052134223,
     "user": {
      "displayName": "Parth Dedhia",
      "photoUrl": "",
      "userId": "15098257602324158403"
     },
     "user_tz": -330
    },
    "id": "hu0RGlASxCNl",
    "outputId": "3d5df355-6def-4b4b-dbb2-672d072ca310"
   },
   "outputs": [],
   "source": [
    "index = 525\n",
    "\n",
    "plt.subplot(1,2,1)\n",
    "plt.title(y_test[index])\n",
    "plt.imshow(X_test[index, :, :, 0,0], cmap='gray')\n",
    "\n",
    "plt.subplot(1, 2, 2)\n",
    "plt.title(np.argmax(model.predict(np.expand_dims(X_test[index, :, :, :,0], axis=0))))\n",
    "plt.imshow(prediction[index, :, :,0, 0], cmap='gray')\n",
    "\n",
    "print(\"\\n\", theta_original[index,...])"
   ]
  },
  {
   "cell_type": "code",
   "execution_count": null,
   "metadata": {
    "id": "UdIH597yYwzK"
   },
   "outputs": [],
   "source": []
  }
 ],
 "metadata": {
  "accelerator": "GPU",
  "colab": {
   "authorship_tag": "ABX9TyOXjvWVzmffEUBkYlxlCwr9",
   "collapsed_sections": [],
   "mount_file_id": "116TvpzEPH99zC4L4uukpz1fK94uRSDQU",
   "name": "Spatial Transformer Network.ipynb",
   "provenance": []
  },
  "kernelspec": {
   "display_name": "Python 3.8.10 64-bit",
   "language": "python",
   "name": "python3"
  },
  "language_info": {
   "codemirror_mode": {
    "name": "ipython",
    "version": 3
   },
   "file_extension": ".py",
   "mimetype": "text/x-python",
   "name": "python",
   "nbconvert_exporter": "python",
   "pygments_lexer": "ipython3",
   "version": "3.8.10 (default, Jun 22 2022, 20:18:18) \n[GCC 9.4.0]"
  },
  "vscode": {
   "interpreter": {
    "hash": "e7370f93d1d0cde622a1f8e1c04877d8463912d04d973331ad4851f04de6915a"
   }
  }
 },
 "nbformat": 4,
 "nbformat_minor": 4
}
