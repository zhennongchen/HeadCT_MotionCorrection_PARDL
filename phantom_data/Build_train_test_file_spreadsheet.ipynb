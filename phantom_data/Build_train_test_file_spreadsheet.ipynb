{
 "cells": [
  {
   "attachments": {},
   "cell_type": "markdown",
   "metadata": {},
   "source": [
    "Training, Validation and testing dataset were labeled by batch manually"
   ]
  },
  {
   "cell_type": "code",
   "execution_count": 1,
   "metadata": {},
   "outputs": [],
   "source": [
    "import os\n",
    "import numpy as np\n",
    "import pandas as pd\n",
    "import HeadCT_motion_correction_PAR.functions_collection as ff"
   ]
  },
  {
   "cell_type": "code",
   "execution_count": 3,
   "metadata": {},
   "outputs": [],
   "source": [
    "data_path = '/mnt/mount_zc_NAS/motion_correction/data/extra'\n",
    "\n",
    "Result = []\n",
    "total_num = 2000\n",
    "\n",
    "for i in range(0,total_num):\n",
    "\n",
    "    patient_id = 'phantom'\n",
    "    patient_subid = ''\n",
    "\n",
    "    batch =  i // int(total_num / 5)\n",
    "    \n",
    "    # if batch == 5:\n",
    "    #     train = 'test'\n",
    "    # else:\n",
    "    train = 'train'\n",
    "        \n",
    "        \n",
    "    # motion-free\n",
    "    motion_free_file = os.path.join('/mnt/mount_zc_NAS/head_phantom_raw/processed/study_4/scan4/processed_0/recon_cropped/recon.nii.gz')\n",
    "    \n",
    "    # motion-free downsampled \n",
    "    motion_free_ds_file = ''\n",
    "\n",
    "\n",
    "    motion_name = 'random_'+ str(i + 1)\n",
    "\n",
    "    # motion image\n",
    "    motion_corrupted_file = os.path.join(data_path,patient_id,motion_name,'image_data/recon_partial.nii.gz')\n",
    "    \n",
    "    # motion image downsampled and cropped\n",
    "    motion_corrupted_ds_file = ''\n",
    " \n",
    "    # motion parameters\n",
    "    motion_parameter_file = os.path.join(data_path,patient_id, motion_name,'motion_parameters.npy')\n",
    "            \n",
    "    # PAR\n",
    "    PAR_folders = os.path.join(data_path,patient_id, motion_name, 'PAR')\n",
    "\n",
    "    end_slice = ''#ff.find_timeframe(PAR_folders, 0 ,'_', '/')\n",
    "    start_slice = ''#end_slice - 15\n",
    "                \n",
    "    # PAR file\n",
    "    PAR_file = os.path.join(PAR_folders,'ds', 'PARs_ds_crop.nii.gz')\n",
    "            \n",
    "    # apply true MVF to PAR\n",
    "    image_from_PAR_MVF = ''\n",
    "   \n",
    "            \n",
    "    Result.append([train, batch, patient_id, patient_subid, motion_name, start_slice, end_slice, motion_free_file, motion_free_ds_file, motion_corrupted_file, \n",
    "                            motion_corrupted_ds_file, motion_parameter_file, PAR_file, image_from_PAR_MVF])\n",
    "\n",
    "    \n",
    "column_list = ['group','batch','PatientID','AccessionNumber','MotionName','PAR_start_slice', 'PAR_end_slice', 'MotionFree_File', 'MotionFreeDs_File',\n",
    "                'Motion_File', 'MotionDs_File', 'MotionParam','PAR_File','ImageFromPARMVF']\n",
    "df = pd.DataFrame(Result, columns = column_list)\n",
    "df.to_excel(os.path.join('/mnt/mount_zc_NAS/motion_correction/data/Patient_list/Patient_list_extra.xlsx'),index=False)\n",
    "    "
   ]
  }
 ],
 "metadata": {
  "kernelspec": {
   "display_name": "Python 3.8.10 64-bit",
   "language": "python",
   "name": "python3"
  },
  "language_info": {
   "codemirror_mode": {
    "name": "ipython",
    "version": 3
   },
   "file_extension": ".py",
   "mimetype": "text/x-python",
   "name": "python",
   "nbconvert_exporter": "python",
   "pygments_lexer": "ipython3",
   "version": "3.8.10"
  },
  "vscode": {
   "interpreter": {
    "hash": "e7370f93d1d0cde622a1f8e1c04877d8463912d04d973331ad4851f04de6915a"
   }
  }
 },
 "nbformat": 4,
 "nbformat_minor": 4
}
