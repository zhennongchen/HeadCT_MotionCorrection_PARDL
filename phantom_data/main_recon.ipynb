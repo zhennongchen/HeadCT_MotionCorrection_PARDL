{
 "cells": [
  {
   "cell_type": "code",
   "execution_count": 1,
   "metadata": {},
   "outputs": [],
   "source": [
    "import numpy as np\n",
    "import os\n",
    "import matplotlib.pyplot as plt\n",
    "import nibabel as nb\n",
    "import SimpleITK as sitk\n",
    "from scipy.ndimage import zoom\n",
    "\n",
    "\n",
    "import HeadCT_motion_correction_PAR.functions_collection as ff\n",
    "import HeadCT_motion_correction_PAR.Data_processing as dp\n",
    "import HeadCT_motion_correction_PAR.motion_simulator.motion_simulation.ct_basic as basic\n",
    "import HeadCT_motion_correction_PAR.motion_simulator.transformation as transform\n",
    "\n",
    "import CTProjector.src.ct_projector.projector.numpy as ct_projector\n",
    "import CTProjector.src.ct_projector.projector.numpy.fan_equiangluar as ct_fan\n",
    "import CMR_HFpEF_Analysis.motion_correction.Bspline as Bspline\n",
    "main_path = '/mnt/mount_zc_NAS/head_phantom_raw/processed'"
   ]
  },
  {
   "attachments": {},
   "cell_type": "markdown",
   "metadata": {},
   "source": [
    "# load raw sinograms"
   ]
  },
  {
   "cell_type": "code",
   "execution_count": 2,
   "metadata": {},
   "outputs": [
    {
     "ename": "KeyboardInterrupt",
     "evalue": "",
     "output_type": "error",
     "traceback": [
      "\u001b[0;31m---------------------------------------------------------------------------\u001b[0m",
      "\u001b[0;31mKeyboardInterrupt\u001b[0m                         Traceback (most recent call last)",
      "Cell \u001b[0;32mIn[2], line 3\u001b[0m\n\u001b[1;32m      1\u001b[0m \u001b[39m# all studies:\u001b[39;00m\n\u001b[1;32m      2\u001b[0m \u001b[39m# initial state\u001b[39;00m\n\u001b[0;32m----> 3\u001b[0m prjs4 \u001b[39m=\u001b[39m nb\u001b[39m.\u001b[39;49mload(os\u001b[39m.\u001b[39;49mpath\u001b[39m.\u001b[39;49mjoin(main_path, \u001b[39m'\u001b[39;49m\u001b[39mstudy_4/scan4/processed_0/prjs_hann/projection_original.nii.gz\u001b[39;49m\u001b[39m'\u001b[39;49m))\u001b[39m.\u001b[39;49mget_fdata()\n\u001b[1;32m      4\u001b[0m prjs4_reshape \u001b[39m=\u001b[39m np\u001b[39m.\u001b[39mtranspose(prjs4,[\u001b[39m0\u001b[39m,\u001b[39m2\u001b[39m,\u001b[39m1\u001b[39m,\u001b[39m3\u001b[39m])\n\u001b[1;32m      5\u001b[0m prjs4_reshape \u001b[39m=\u001b[39m np\u001b[39m.\u001b[39mreshape(prjs4_reshape, [prjs4_reshape\u001b[39m.\u001b[39mshape[\u001b[39m0\u001b[39m] \u001b[39m*\u001b[39m prjs4_reshape\u001b[39m.\u001b[39mshape[\u001b[39m1\u001b[39m], prjs4_reshape\u001b[39m.\u001b[39mshape[\u001b[39m2\u001b[39m], prjs4_reshape\u001b[39m.\u001b[39mshape[\u001b[39m3\u001b[39m]])\n",
      "File \u001b[0;32m/usr/local/lib/python3.8/dist-packages/nibabel/dataobj_images.py:355\u001b[0m, in \u001b[0;36mDataobjImage.get_fdata\u001b[0;34m(self, caching, dtype)\u001b[0m\n\u001b[1;32m    351\u001b[0m         \u001b[39mreturn\u001b[39;00m \u001b[39mself\u001b[39m\u001b[39m.\u001b[39m_fdata_cache\n\u001b[1;32m    352\u001b[0m \u001b[39m# Always return requested data type\u001b[39;00m\n\u001b[1;32m    353\u001b[0m \u001b[39m# For array proxies, will attempt to confine data array to dtype\u001b[39;00m\n\u001b[1;32m    354\u001b[0m \u001b[39m# during scaling\u001b[39;00m\n\u001b[0;32m--> 355\u001b[0m data \u001b[39m=\u001b[39m np\u001b[39m.\u001b[39;49masanyarray(\u001b[39mself\u001b[39;49m\u001b[39m.\u001b[39;49m_dataobj, dtype\u001b[39m=\u001b[39;49mdtype)\n\u001b[1;32m    356\u001b[0m \u001b[39mif\u001b[39;00m caching \u001b[39m==\u001b[39m \u001b[39m'\u001b[39m\u001b[39mfill\u001b[39m\u001b[39m'\u001b[39m:\n\u001b[1;32m    357\u001b[0m     \u001b[39mself\u001b[39m\u001b[39m.\u001b[39m_fdata_cache \u001b[39m=\u001b[39m data\n",
      "File \u001b[0;32m/usr/local/lib/python3.8/dist-packages/numpy/core/_asarray.py:136\u001b[0m, in \u001b[0;36masanyarray\u001b[0;34m(a, dtype, order)\u001b[0m\n\u001b[1;32m     86\u001b[0m \u001b[39m@set_module\u001b[39m(\u001b[39m'\u001b[39m\u001b[39mnumpy\u001b[39m\u001b[39m'\u001b[39m)\n\u001b[1;32m     87\u001b[0m \u001b[39mdef\u001b[39;00m \u001b[39masanyarray\u001b[39m(a, dtype\u001b[39m=\u001b[39m\u001b[39mNone\u001b[39;00m, order\u001b[39m=\u001b[39m\u001b[39mNone\u001b[39;00m):\n\u001b[1;32m     88\u001b[0m     \u001b[39m\"\"\"Convert the input to an ndarray, but pass ndarray subclasses through.\u001b[39;00m\n\u001b[1;32m     89\u001b[0m \n\u001b[1;32m     90\u001b[0m \u001b[39m    Parameters\u001b[39;00m\n\u001b[0;32m   (...)\u001b[0m\n\u001b[1;32m    134\u001b[0m \n\u001b[1;32m    135\u001b[0m \u001b[39m    \"\"\"\u001b[39;00m\n\u001b[0;32m--> 136\u001b[0m     \u001b[39mreturn\u001b[39;00m array(a, dtype, copy\u001b[39m=\u001b[39;49m\u001b[39mFalse\u001b[39;49;00m, order\u001b[39m=\u001b[39;49morder, subok\u001b[39m=\u001b[39;49m\u001b[39mTrue\u001b[39;49;00m)\n",
      "File \u001b[0;32m/usr/local/lib/python3.8/dist-packages/nibabel/arrayproxy.py:391\u001b[0m, in \u001b[0;36mArrayProxy.__array__\u001b[0;34m(self, dtype)\u001b[0m\n\u001b[1;32m    370\u001b[0m \u001b[39mdef\u001b[39;00m \u001b[39m__array__\u001b[39m(\u001b[39mself\u001b[39m, dtype\u001b[39m=\u001b[39m\u001b[39mNone\u001b[39;00m):\n\u001b[1;32m    371\u001b[0m     \u001b[39m\"\"\" Read data from file and apply scaling, casting to ``dtype``\u001b[39;00m\n\u001b[1;32m    372\u001b[0m \n\u001b[1;32m    373\u001b[0m \u001b[39m    If ``dtype`` is unspecified, the dtype of the returned array is the\u001b[39;00m\n\u001b[0;32m   (...)\u001b[0m\n\u001b[1;32m    389\u001b[0m \u001b[39m        Scaled image data with type `dtype`.\u001b[39;00m\n\u001b[1;32m    390\u001b[0m \u001b[39m    \"\"\"\u001b[39;00m\n\u001b[0;32m--> 391\u001b[0m     arr \u001b[39m=\u001b[39m \u001b[39mself\u001b[39;49m\u001b[39m.\u001b[39;49m_get_scaled(dtype\u001b[39m=\u001b[39;49mdtype, slicer\u001b[39m=\u001b[39;49m())\n\u001b[1;32m    392\u001b[0m     \u001b[39mif\u001b[39;00m dtype \u001b[39mis\u001b[39;00m \u001b[39mnot\u001b[39;00m \u001b[39mNone\u001b[39;00m:\n\u001b[1;32m    393\u001b[0m         arr \u001b[39m=\u001b[39m arr\u001b[39m.\u001b[39mastype(dtype, copy\u001b[39m=\u001b[39m\u001b[39mFalse\u001b[39;00m)\n",
      "File \u001b[0;32m/usr/local/lib/python3.8/dist-packages/nibabel/arrayproxy.py:358\u001b[0m, in \u001b[0;36mArrayProxy._get_scaled\u001b[0;34m(self, dtype, slicer)\u001b[0m\n\u001b[1;32m    356\u001b[0m     scl_inter \u001b[39m=\u001b[39m scl_inter\u001b[39m.\u001b[39mastype(use_dtype)\n\u001b[1;32m    357\u001b[0m \u001b[39m# Read array and upcast as necessary for big slopes, intercepts\u001b[39;00m\n\u001b[0;32m--> 358\u001b[0m scaled \u001b[39m=\u001b[39m apply_read_scaling(\u001b[39mself\u001b[39;49m\u001b[39m.\u001b[39;49m_get_unscaled(slicer\u001b[39m=\u001b[39;49mslicer), scl_slope, scl_inter)\n\u001b[1;32m    359\u001b[0m \u001b[39mif\u001b[39;00m dtype \u001b[39mis\u001b[39;00m \u001b[39mnot\u001b[39;00m \u001b[39mNone\u001b[39;00m:\n\u001b[1;32m    360\u001b[0m     scaled \u001b[39m=\u001b[39m scaled\u001b[39m.\u001b[39mastype(np\u001b[39m.\u001b[39mpromote_types(scaled\u001b[39m.\u001b[39mdtype, dtype), copy\u001b[39m=\u001b[39m\u001b[39mFalse\u001b[39;00m)\n",
      "File \u001b[0;32m/usr/local/lib/python3.8/dist-packages/nibabel/arrayproxy.py:332\u001b[0m, in \u001b[0;36mArrayProxy._get_unscaled\u001b[0;34m(self, slicer)\u001b[0m\n\u001b[1;32m    329\u001b[0m \u001b[39mif\u001b[39;00m canonical_slicers(slicer, \u001b[39mself\u001b[39m\u001b[39m.\u001b[39m_shape, \u001b[39mFalse\u001b[39;00m) \u001b[39m==\u001b[39m \\\n\u001b[1;32m    330\u001b[0m         canonical_slicers((), \u001b[39mself\u001b[39m\u001b[39m.\u001b[39m_shape, \u001b[39mFalse\u001b[39;00m):\n\u001b[1;32m    331\u001b[0m     \u001b[39mwith\u001b[39;00m \u001b[39mself\u001b[39m\u001b[39m.\u001b[39m_get_fileobj() \u001b[39mas\u001b[39;00m fileobj, \u001b[39mself\u001b[39m\u001b[39m.\u001b[39m_lock:\n\u001b[0;32m--> 332\u001b[0m         \u001b[39mreturn\u001b[39;00m array_from_file(\u001b[39mself\u001b[39;49m\u001b[39m.\u001b[39;49m_shape,\n\u001b[1;32m    333\u001b[0m                                \u001b[39mself\u001b[39;49m\u001b[39m.\u001b[39;49m_dtype,\n\u001b[1;32m    334\u001b[0m                                fileobj,\n\u001b[1;32m    335\u001b[0m                                offset\u001b[39m=\u001b[39;49m\u001b[39mself\u001b[39;49m\u001b[39m.\u001b[39;49m_offset,\n\u001b[1;32m    336\u001b[0m                                order\u001b[39m=\u001b[39;49m\u001b[39mself\u001b[39;49m\u001b[39m.\u001b[39;49morder,\n\u001b[1;32m    337\u001b[0m                                mmap\u001b[39m=\u001b[39;49m\u001b[39mself\u001b[39;49m\u001b[39m.\u001b[39;49m_mmap)\n\u001b[1;32m    338\u001b[0m \u001b[39mwith\u001b[39;00m \u001b[39mself\u001b[39m\u001b[39m.\u001b[39m_get_fileobj() \u001b[39mas\u001b[39;00m fileobj:\n\u001b[1;32m    339\u001b[0m     \u001b[39mreturn\u001b[39;00m fileslice(fileobj,\n\u001b[1;32m    340\u001b[0m                      slicer,\n\u001b[1;32m    341\u001b[0m                      \u001b[39mself\u001b[39m\u001b[39m.\u001b[39m_shape,\n\u001b[0;32m   (...)\u001b[0m\n\u001b[1;32m    344\u001b[0m                      order\u001b[39m=\u001b[39m\u001b[39mself\u001b[39m\u001b[39m.\u001b[39morder,\n\u001b[1;32m    345\u001b[0m                      lock\u001b[39m=\u001b[39m\u001b[39mself\u001b[39m\u001b[39m.\u001b[39m_lock)\n",
      "File \u001b[0;32m/usr/local/lib/python3.8/dist-packages/nibabel/volumeutils.py:522\u001b[0m, in \u001b[0;36marray_from_file\u001b[0;34m(shape, in_dtype, infile, offset, order, mmap)\u001b[0m\n\u001b[1;32m    520\u001b[0m \u001b[39mif\u001b[39;00m \u001b[39mhasattr\u001b[39m(infile, \u001b[39m'\u001b[39m\u001b[39mreadinto\u001b[39m\u001b[39m'\u001b[39m):\n\u001b[1;32m    521\u001b[0m     data_bytes \u001b[39m=\u001b[39m \u001b[39mbytearray\u001b[39m(n_bytes)\n\u001b[0;32m--> 522\u001b[0m     n_read \u001b[39m=\u001b[39m infile\u001b[39m.\u001b[39;49mreadinto(data_bytes)\n\u001b[1;32m    523\u001b[0m     needs_copy \u001b[39m=\u001b[39m \u001b[39mFalse\u001b[39;00m\n\u001b[1;32m    524\u001b[0m \u001b[39melse\u001b[39;00m:\n",
      "File \u001b[0;32m/usr/lib/python3.8/gzip.py:292\u001b[0m, in \u001b[0;36mGzipFile.read\u001b[0;34m(self, size)\u001b[0m\n\u001b[1;32m    290\u001b[0m     \u001b[39mimport\u001b[39;00m \u001b[39merrno\u001b[39;00m\n\u001b[1;32m    291\u001b[0m     \u001b[39mraise\u001b[39;00m \u001b[39mOSError\u001b[39;00m(errno\u001b[39m.\u001b[39mEBADF, \u001b[39m\"\u001b[39m\u001b[39mread() on write-only GzipFile object\u001b[39m\u001b[39m\"\u001b[39m)\n\u001b[0;32m--> 292\u001b[0m \u001b[39mreturn\u001b[39;00m \u001b[39mself\u001b[39;49m\u001b[39m.\u001b[39;49m_buffer\u001b[39m.\u001b[39;49mread(size)\n",
      "File \u001b[0;32m/usr/lib/python3.8/_compression.py:68\u001b[0m, in \u001b[0;36mDecompressReader.readinto\u001b[0;34m(self, b)\u001b[0m\n\u001b[1;32m     66\u001b[0m \u001b[39mdef\u001b[39;00m \u001b[39mreadinto\u001b[39m(\u001b[39mself\u001b[39m, b):\n\u001b[1;32m     67\u001b[0m     \u001b[39mwith\u001b[39;00m \u001b[39mmemoryview\u001b[39m(b) \u001b[39mas\u001b[39;00m view, view\u001b[39m.\u001b[39mcast(\u001b[39m\"\u001b[39m\u001b[39mB\u001b[39m\u001b[39m\"\u001b[39m) \u001b[39mas\u001b[39;00m byte_view:\n\u001b[0;32m---> 68\u001b[0m         data \u001b[39m=\u001b[39m \u001b[39mself\u001b[39;49m\u001b[39m.\u001b[39;49mread(\u001b[39mlen\u001b[39;49m(byte_view))\n\u001b[1;32m     69\u001b[0m         byte_view[:\u001b[39mlen\u001b[39m(data)] \u001b[39m=\u001b[39m data\n\u001b[1;32m     70\u001b[0m     \u001b[39mreturn\u001b[39;00m \u001b[39mlen\u001b[39m(data)\n",
      "File \u001b[0;32m/usr/lib/python3.8/gzip.py:487\u001b[0m, in \u001b[0;36m_GzipReader.read\u001b[0;34m(self, size)\u001b[0m\n\u001b[1;32m    484\u001b[0m \u001b[39m# Read a chunk of data from the file\u001b[39;00m\n\u001b[1;32m    485\u001b[0m buf \u001b[39m=\u001b[39m \u001b[39mself\u001b[39m\u001b[39m.\u001b[39m_fp\u001b[39m.\u001b[39mread(io\u001b[39m.\u001b[39mDEFAULT_BUFFER_SIZE)\n\u001b[0;32m--> 487\u001b[0m uncompress \u001b[39m=\u001b[39m \u001b[39mself\u001b[39;49m\u001b[39m.\u001b[39;49m_decompressor\u001b[39m.\u001b[39;49mdecompress(buf, size)\n\u001b[1;32m    488\u001b[0m \u001b[39mif\u001b[39;00m \u001b[39mself\u001b[39m\u001b[39m.\u001b[39m_decompressor\u001b[39m.\u001b[39munconsumed_tail \u001b[39m!=\u001b[39m \u001b[39mb\u001b[39m\u001b[39m\"\u001b[39m\u001b[39m\"\u001b[39m:\n\u001b[1;32m    489\u001b[0m     \u001b[39mself\u001b[39m\u001b[39m.\u001b[39m_fp\u001b[39m.\u001b[39mprepend(\u001b[39mself\u001b[39m\u001b[39m.\u001b[39m_decompressor\u001b[39m.\u001b[39munconsumed_tail)\n",
      "\u001b[0;31mKeyboardInterrupt\u001b[0m: "
     ]
    }
   ],
   "source": [
    "# all studies:\n",
    "# initial state\n",
    "prjs4 = nb.load(os.path.join(main_path, 'study_4/scan4/processed_0/prjs_hann/projection_original.nii.gz')).get_fdata()\n",
    "prjs4_reshape = np.transpose(prjs4,[0,2,1,3])\n",
    "prjs4_reshape = np.reshape(prjs4_reshape, [prjs4_reshape.shape[0] * prjs4_reshape.shape[1], prjs4_reshape.shape[2], prjs4_reshape.shape[3]])\n",
    "\n",
    "prjs3 = nb.load(os.path.join(main_path, 'study_4/scan3/processed_0/prjs_hann/projection_original.nii.gz')).get_fdata()\n",
    "prjs3_reshape = np.transpose(prjs3,[0,2,1,3])\n",
    "prjs3_reshape = np.reshape(prjs3_reshape, [prjs3_reshape.shape[0] * prjs3_reshape.shape[1], prjs3_reshape.shape[2], prjs3_reshape.shape[3]])\n",
    "\n",
    "prjs5 = nb.load(os.path.join(main_path, 'study_4/scan5/processed_0/prjs_hann/projection_original.nii.gz')).get_fdata()\n",
    "prjs5_reshape = np.transpose(prjs5,[0,2,1,3])\n",
    "prjs5_reshape = np.reshape(prjs5_reshape, [prjs5_reshape.shape[0] * prjs5_reshape.shape[1], prjs5_reshape.shape[2], prjs5_reshape.shape[3]])\n",
    "\n",
    "prjs6 = nb.load(os.path.join(main_path, 'study_4/scan6/processed_0/prjs_hann/projection_original.nii.gz')).get_fdata()\n",
    "prjs6_reshape = np.transpose(prjs6,[0,2,1,3])\n",
    "prjs6_reshape = np.reshape(prjs6_reshape, [prjs6_reshape.shape[0] * prjs6_reshape.shape[1], prjs6_reshape.shape[2], prjs6_reshape.shape[3]])\n"
   ]
  },
  {
   "attachments": {},
   "cell_type": "markdown",
   "metadata": {},
   "source": [
    "# make motion-affected sinogram"
   ]
  },
  {
   "cell_type": "code",
   "execution_count": 31,
   "metadata": {},
   "outputs": [],
   "source": [
    "study = 'study_0'\n",
    "main_folder = os.path.join('/mnt/mount_zc_NAS/motion_correction/data/phantom_data', study)\n",
    "motion_gt = np.load(os.path.join(main_folder, 'motion_each_point.npy'),allow_pickle = True)\n",
    "motion_pred = np.load(os.path.join('/mnt/mount_zc_NAS/motion_correction/predict/phantom_data/images', study, 'parameters/pred_final.npy'), allow_pickle = True)"
   ]
  },
  {
   "cell_type": "code",
   "execution_count": 36,
   "metadata": {},
   "outputs": [],
   "source": [
    "motion_pred[0,:] = np.array([-0.20887877, -0.330323  , -0.25350615,  0.15638308])"
   ]
  },
  {
   "cell_type": "code",
   "execution_count": 37,
   "metadata": {},
   "outputs": [],
   "source": [
    "# get the spline function\n",
    "# gt motion:\n",
    "spline_tx_gt = transform.interp_func(np.linspace(0,100,25), np.asarray(motion_gt[0,:]))\n",
    "spline_tz_gt = transform.interp_func(np.linspace(0,100,25), np.asarray(motion_gt[2,:]))\n",
    "spline_rx_gt = transform.interp_func(np.linspace(0,100,25), np.asarray(motion_gt[3,:]))\n",
    "spline_rz_gt = transform.interp_func(np.linspace(0,100,25), np.asarray(motion_gt[5,:]))\n",
    "\n",
    "# pred motion\n",
    "spline_tx_pred = transform.interp_func(np.linspace(0,100,5), np.concatenate([np.asarray([0]),motion_pred[0,:]],axis = -1))\n",
    "spline_tz_pred = transform.interp_func(np.linspace(0,100,5), np.concatenate([np.asarray([0]),motion_pred[1,:]],axis = -1))\n",
    "spline_rx_pred = transform.interp_func(np.linspace(0,100,5), np.concatenate([np.asarray([0]),motion_pred[2,:]],axis = -1))\n",
    "spline_rz_pred = transform.interp_func(np.linspace(0,100,5), np.concatenate([np.asarray([0]),motion_pred[3,:]],axis = -1))"
   ]
  },
  {
   "cell_type": "code",
   "execution_count": 46,
   "metadata": {},
   "outputs": [
    {
     "name": "stderr",
     "output_type": "stream",
     "text": [
      "The PostScript backend does not support transparency; partially transparent artists will be rendered opaque.\n",
      "The PostScript backend does not support transparency; partially transparent artists will be rendered opaque.\n",
      "The PostScript backend does not support transparency; partially transparent artists will be rendered opaque.\n",
      "The PostScript backend does not support transparency; partially transparent artists will be rendered opaque.\n",
      "The PostScript backend does not support transparency; partially transparent artists will be rendered opaque.\n",
      "The PostScript backend does not support transparency; partially transparent artists will be rendered opaque.\n",
      "The PostScript backend does not support transparency; partially transparent artists will be rendered opaque.\n",
      "The PostScript backend does not support transparency; partially transparent artists will be rendered opaque.\n",
      "The PostScript backend does not support transparency; partially transparent artists will be rendered opaque.\n",
      "The PostScript backend does not support transparency; partially transparent artists will be rendered opaque.\n",
      "The PostScript backend does not support transparency; partially transparent artists will be rendered opaque.\n",
      "The PostScript backend does not support transparency; partially transparent artists will be rendered opaque.\n",
      "The PostScript backend does not support transparency; partially transparent artists will be rendered opaque.\n"
     ]
    },
    {
     "data": {
      "image/png": "[encoded data removed]",
      "text/plain": [
       "<Figure size 600x300 with 1 Axes>"
      ]
     },
     "metadata": {},
     "output_type": "display_data"
    }
   ],
   "source": [
    "gt = motion_gt[0,:]\n",
    "spline_gt = spline_tx_gt\n",
    "spline_pred = spline_tx_pred\n",
    "\n",
    "fig = plt.figure(figsize = (6,3))\n",
    "\n",
    "t1 = np.linspace(0, 100, 5)\n",
    "\n",
    "# gt motion\n",
    "plt.plot(np.linspace(0, 100, 25), gt, color = 'green', marker ='.', label = 'gt_motion')\n",
    "\n",
    "# gt B-spline\n",
    "y_gt_cp = spline_gt(np.linspace(0,100,5))\n",
    "plt.scatter(t1, y_gt_cp, s=50, color='blue', marker='*', label = 'gt_CP')\n",
    "plt.plot(np.linspace(0,100, 100), transform.spline_motion_functions.interp(t1, y_gt_cp, np.linspace(0,100, 100)), color = 'purple', linestyle = '--', label = 'gt_B-spline')\n",
    "\n",
    "# predict B-spline\n",
    "pred_cp = spline_pred(np.linspace(0,100,5))\n",
    "plt.scatter(t1, pred_cp, s=40, color='blue', marker='o', label = 'pred_CP')\n",
    "plt.plot(np.linspace(0,100, 100),spline_pred(np.linspace(0,100,100)) , 'r-', linewidth = 2)\n",
    "\n",
    "plt.yticks(np.arange(1, -5.1,step = -1),fontsize=13)\n",
    "# plt.ylabel(\"mm or degree\",fontsize=15)\n",
    "\n",
    "plt.xticks(np.arange(0, 100.1,step = 20),fontsize=13)\n",
    "# plt.xlabel(\"percent of gantry rotation time\",fontsize=15)\n",
    "      \n",
    "plt.grid(True, linestyle='dashed', alpha=0.5)\n",
    "save_path = '/mnt/mount_zc_NAS/motion_correction/pictures/Manuscript/phantom'\n",
    "plt.savefig(os.path.join(save_path, 'tx.eps'), transparent = True)"
   ]
  },
  {
   "cell_type": "code",
   "execution_count": 8,
   "metadata": {},
   "outputs": [
    {
     "name": "stdout",
     "output_type": "stream",
     "text": [
      "0 [0, 96] [0.] sinogram use:  4 [-0.] [-0.] [-0.] [0.] [0.] [0.]\n",
      "1 [96, 192] [0.] sinogram use:  4 [-0.05153061] [-0.] [-0.] [0.1712828] [1.] [0.25]\n",
      "2 [192, 288] [0.] sinogram use:  4 [0.75646939] [1.] [0.707] [0.62026239] [2.] [0.5]\n",
      "3 [288, 384] [0.] sinogram use:  4 [0.77708163] [1.] [0.707] [0.77259475] [3.] [0.75]\n",
      "4 [384, 480] [0.] sinogram use:  4 [1.42018367] [2.] [1.414] [1.20116618] [5.] [1.25]\n",
      "5 [480, 576] [-2.] sinogram use:  5 [1.83036735] [3.] [2.121] [2.053207] [8.] [2.]\n",
      "6 [576, 672] [-2.] sinogram use:  5 [2.10038776] [3.] [2.121] [2.57142857] [10.] [2.5]\n",
      "7 [672, 768] [-2.] sinogram use:  5 [2.828] [4.] [2.828] [3.] [12.] [3.]\n",
      "8 [768, 864] [-2.] sinogram use:  5 [2.77646939] [4.] [2.828] [2.8287172] [11.] [2.75]\n",
      "9 [864, 960] [-3.] sinogram use:  5 [3.58446939] [5.] [3.535] [2.37973761] [10.] [2.5]\n",
      "10 [960, 1056] [-4.] sinogram use:  6 [3.60508163] [5.] [3.535] [2.22521866] [9.] [2.25]\n",
      "11 [1056, 1152] [-4.] sinogram use:  6 [4.24818367] [6.] [4.242] [1.99781341] [8.] [2.]\n",
      "12 [1152, 1248] [-4.] sinogram use:  6 [4.242] [6.] [4.242] [2.] [8.] [2.]\n",
      "13 [1248, 1344] [-4.] sinogram use:  6 [4.242] [6.] [4.242] [2.] [8.] [2.]\n",
      "14 [1344, 1440] [-4.] sinogram use:  6 [4.242] [6.] [4.242] [2.] [8.] [2.]\n"
     ]
    }
   ],
   "source": [
    "# # divide sinogram in to 15 segments so it's divisible by 1440\n",
    "# increment = 1440 // 15\n",
    "# prjs_new = np.zeros_like(prjs4_reshape)\n",
    "\n",
    "# t = np.linspace(0,100,15)\n",
    "\n",
    "# for i in range( 0, 15):\n",
    "\n",
    "#     tx = int(np.round(spline_tx_gt([t[i]])/0.601))\n",
    "#     tz = spline_tz_gt([t[i]])\n",
    "#     rz = spline_rz_gt([t[i]])\n",
    "\n",
    "#     slice_index = [increment * i, increment * (i+1)]\n",
    "   \n",
    "#     if tx == 0:\n",
    "#         p = np.copy(prjs4_reshape)\n",
    "#         use = 4\n",
    "#     elif tx == 1 or tx == 2:\n",
    "#         p = np.copy(prjs3_reshape)\n",
    "#         use = 3\n",
    "#     elif tx == -2:\n",
    "#         p = np.copy(prjs5_reshape)\n",
    "#         use = 5\n",
    "#     elif tx == -4:\n",
    "#         p = np.copy(prjs6_reshape)\n",
    "#         use = 6\n",
    "\n",
    "#     p = dp.move_3Dimage(p, [int(np.round(-tz / 0.707)), int(np.round(rz/360 * 1440)),0])\n",
    "#     print(i, slice_index, tx, 'sinogram use: ', use, -tz, np.round(-tz / 0.707) ,np.round(-tz / 0.707)*0.707 , rz, np.round(rz/360 * 1440),np.round(rz/360 * 1440)*0.25 )\n",
    "\n",
    "#     prjs_new[:, slice_index[0]: slice_index[1], :] = p[:, slice_index[0]: slice_index[1], :]\n",
    "\n",
    "# # save sinogram:\n",
    "# nb.save(nb.Nifti1Image(prjs_new, nb.load(os.path.join(main_folder, 'projection.nii.gz')).affine), os.path.join(main_folder,'projection_HR_for_recon.nii.gz'))"
   ]
  },
  {
   "cell_type": "code",
   "execution_count": 15,
   "metadata": {},
   "outputs": [
    {
     "name": "stdout",
     "output_type": "stream",
     "text": [
      "(432, 1440, 448)\n"
     ]
    }
   ],
   "source": [
    "# load sinogram\n",
    "prjs_new = nb.load(os.path.join(main_folder,'projection_HR.nii.gz')).get_fdata()\n",
    "print(prjs_new.shape)"
   ]
  },
  {
   "attachments": {},
   "cell_type": "markdown",
   "metadata": {},
   "source": [
    "# make PAR-corrected"
   ]
  },
  {
   "cell_type": "code",
   "execution_count": 16,
   "metadata": {},
   "outputs": [],
   "source": [
    "angles = ff.get_angles_zc(1440, 360, 0)\n",
    "\n",
    "projector = ct_projector.ct_projector()\n",
    "projector.from_file('./projector_fan_scanner.cfg')\n",
    "projector.nv = 1\n",
    "projector.nz = 1\n",
    "projector.nx = 512\n",
    "projector.ny = 512\n",
    "projector.dx = 0.601\n",
    "projector.dy = 0.601\n",
    "\n",
    "slice1 = 0\n",
    "slice2 = 180\n",
    "projection = prjs_new[slice1:slice2,:,np.newaxis,:] #0-180, 180-380, 380-432\n",
    "sinogram_segments, center_angle_index, num_angles_in_one_segment, segment_indexes = basic.divide_sinogram_new(projection, 7 ,1440 , fill_out = False)"
   ]
  },
  {
   "cell_type": "code",
   "execution_count": 17,
   "metadata": {},
   "outputs": [],
   "source": [
    "# make PAR\n",
    "num = sinogram_segments.shape[0]\n",
    "\n",
    "PAR_collections = np.zeros([num, slice2 - slice1, 512,512])\n",
    "\n",
    "for i in range(0,num):\n",
    "    s = segment_indexes[i]\n",
    "    segment = sinogram_segments[i,...]\n",
    "    \n",
    "    angles_partial = angles[s[0]:s[1]]\n",
    "\n",
    "    # print(s, segment.shape, angles_partial.shape , angles_partial[0] / np.pi * 180, angles_partial[-1] / np.pi * 180)\n",
    "\n",
    "    # backprojection\n",
    "    recon = basic.filtered_backporjection(np.copy(segment, 'C'),angles_partial,projector,projector,'fan', back_to_original_value = False)\n",
    "    recon = recon / 0.0193 * 1000 - 1000\n",
    "    \n",
    "    PAR_collections[i,:,:,:] = recon.astype(np.int32)"
   ]
  },
  {
   "cell_type": "code",
   "execution_count": 18,
   "metadata": {},
   "outputs": [
    {
     "name": "stderr",
     "output_type": "stream",
     "text": [
      "/usr/local/lib/python3.8/dist-packages/numpy/core/_asarray.py:83: VisibleDeprecationWarning: Creating an ndarray from ragged nested sequences (which is a list-or-tuple of lists-or-tuples-or ndarrays with different lengths or shapes) is deprecated. If you meant to do this, you must specify 'dtype=object' when creating the ndarray\n",
      "  return array(a, dtype, copy=False, order=order)\n",
      "/workspace/Documents/HeadCT_motion_correction_PAR/motion_simulator/transformation/rotation_matrix_from_angle.py:13: VisibleDeprecationWarning: Creating an ndarray from ragged nested sequences (which is a list-or-tuple of lists-or-tuples-or ndarrays with different lengths or shapes) is deprecated. If you meant to do this, you must specify 'dtype=object' when creating the ndarray\n",
      "  return np.array(\n"
     ]
    },
    {
     "name": "stdout",
     "output_type": "stream",
     "text": [
      "done transformation:  0 [0.] [0.] [0.]\n",
      "done transformation:  1 [0.] [-0.707] [0.25]\n",
      "done transformation:  2 [0.] [-0.707] [0.5]\n"
     ]
    },
    {
     "ename": "KeyboardInterrupt",
     "evalue": "",
     "output_type": "error",
     "traceback": [
      "\u001b[0;31m---------------------------------------------------------------------------\u001b[0m",
      "\u001b[0;31mKeyboardInterrupt\u001b[0m                         Traceback (most recent call last)",
      "Cell \u001b[0;32mIn[18], line 14\u001b[0m\n\u001b[1;32m     12\u001b[0m _,_,_,transformation_matrix \u001b[39m=\u001b[39m transform\u001b[39m.\u001b[39mgenerate_transform_matrix([\u001b[39m-\u001b[39mtz \u001b[39m/\u001b[39m \u001b[39m0.707\u001b[39m  , \u001b[39m-\u001b[39mtx  \u001b[39m/\u001b[39m \u001b[39m0.601\u001b[39m, \u001b[39m0\u001b[39m ],[\u001b[39m-\u001b[39mrz \u001b[39m/\u001b[39m \u001b[39m180\u001b[39m \u001b[39m*\u001b[39m np\u001b[39m.\u001b[39mpi, \u001b[39m0\u001b[39m,\u001b[39m0\u001b[39m],[\u001b[39m1\u001b[39m,\u001b[39m1\u001b[39m,\u001b[39m1\u001b[39m],I\u001b[39m.\u001b[39mshape, which_one_is_first\u001b[39m=\u001b[39m\u001b[39m'\u001b[39m\u001b[39mtranslation\u001b[39m\u001b[39m'\u001b[39m)\n\u001b[1;32m     13\u001b[0m transformation_matrix \u001b[39m=\u001b[39m transform\u001b[39m.\u001b[39mtransform_full_matrix_offset_center(transformation_matrix, I\u001b[39m.\u001b[39mshape)\n\u001b[0;32m---> 14\u001b[0m final_par_c[i,\u001b[39m.\u001b[39m\u001b[39m.\u001b[39m\u001b[39m.\u001b[39m] \u001b[39m=\u001b[39m transform\u001b[39m.\u001b[39;49mapply_affine_transform(I, transformation_matrix,order \u001b[39m=\u001b[39;49m \u001b[39m3\u001b[39;49m, cval \u001b[39m=\u001b[39;49m np\u001b[39m.\u001b[39;49mmin(I))\n\u001b[1;32m     16\u001b[0m \u001b[39mprint\u001b[39m(\u001b[39m'\u001b[39m\u001b[39mdone transformation: \u001b[39m\u001b[39m'\u001b[39m,i, tx, tz, rz)\n",
      "File \u001b[0;32m/workspace/Documents/HeadCT_motion_correction_PAR/motion_simulator/transformation/apply_transformation.py:10\u001b[0m, in \u001b[0;36mapply_affine_transform\u001b[0;34m(image, transform_matrix, order, channel_wise, channel_index, fill_mode, cval)\u001b[0m\n\u001b[1;32m      7\u001b[0m     final_affine_matrix \u001b[39m=\u001b[39m transform_matrix[: image\u001b[39m.\u001b[39mndim, : image\u001b[39m.\u001b[39mndim]\n\u001b[1;32m      8\u001b[0m     final_offset \u001b[39m=\u001b[39m transform_matrix[: image\u001b[39m.\u001b[39mndim, image\u001b[39m.\u001b[39mndim]\n\u001b[0;32m---> 10\u001b[0m     \u001b[39mreturn\u001b[39;00m affine_transform(image, final_affine_matrix, final_offset, order\u001b[39m=\u001b[39;49morder, mode\u001b[39m=\u001b[39;49mfill_mode, cval\u001b[39m=\u001b[39;49mcval)\n\u001b[1;32m     12\u001b[0m \u001b[39melse\u001b[39;00m:\n\u001b[1;32m     13\u001b[0m     image \u001b[39m=\u001b[39m np\u001b[39m.\u001b[39mrollaxis(image, channel_index, \u001b[39m0\u001b[39m)\n",
      "File \u001b[0;32m/usr/local/lib/python3.8/dist-packages/scipy/ndimage/interpolation.py:611\u001b[0m, in \u001b[0;36maffine_transform\u001b[0;34m(input, matrix, offset, output_shape, output, order, mode, cval, prefilter)\u001b[0m\n\u001b[1;32m    608\u001b[0m     _nd_image\u001b[39m.\u001b[39mzoom_shift(filtered, matrix, offset\u001b[39m/\u001b[39mmatrix, output, order,\n\u001b[1;32m    609\u001b[0m                          mode, cval, npad, \u001b[39mFalse\u001b[39;00m)\n\u001b[1;32m    610\u001b[0m \u001b[39melse\u001b[39;00m:\n\u001b[0;32m--> 611\u001b[0m     _nd_image\u001b[39m.\u001b[39;49mgeometric_transform(filtered, \u001b[39mNone\u001b[39;49;00m, \u001b[39mNone\u001b[39;49;00m, matrix, offset,\n\u001b[1;32m    612\u001b[0m                                   output, order, mode, cval, npad, \u001b[39mNone\u001b[39;49;00m,\n\u001b[1;32m    613\u001b[0m                                   \u001b[39mNone\u001b[39;49;00m)\n\u001b[1;32m    614\u001b[0m \u001b[39mreturn\u001b[39;00m output\n",
      "\u001b[0;31mKeyboardInterrupt\u001b[0m: "
     ]
    }
   ],
   "source": [
    "final_par_c = np.zeros_like(PAR_collections)\n",
    "\n",
    "t = np.linspace(0,100,15)\n",
    "\n",
    "for i in range(0, PAR_collections.shape[0]):\n",
    "    # motion:\n",
    "    tx = np.round(spline_tx_pred([t[i]]) / 0.601) * 0.601\n",
    "    tz = np.round(spline_tz_pred([t[i]]) / 0.707)  * 0.707\n",
    "    rz = np.round(spline_rz_pred([t[i]]) / 0.25)  * 0.25\n",
    "\n",
    "    I = PAR_collections[i,...]\n",
    "    _,_,_,transformation_matrix = transform.generate_transform_matrix([-tz / 0.707  , -tx  / 0.601, 0 ],[-rz / 180 * np.pi, 0,0],[1,1,1],I.shape, which_one_is_first='translation')\n",
    "    transformation_matrix = transform.transform_full_matrix_offset_center(transformation_matrix, I.shape)\n",
    "    final_par_c[i,...] = transform.apply_affine_transform(I, transformation_matrix,order = 3, cval = np.min(I))\n",
    "\n",
    "    print('done transformation: ',i, tx, tz, rz)"
   ]
  },
  {
   "cell_type": "code",
   "execution_count": 8,
   "metadata": {},
   "outputs": [],
   "source": [
    "par_corrected_image_0_180 = np.mean(final_par_c,axis=0)"
   ]
  },
  {
   "cell_type": "code",
   "execution_count": 10,
   "metadata": {},
   "outputs": [],
   "source": [
    "img_0_180 = np.copy(par_corrected_image_0_180)"
   ]
  },
  {
   "cell_type": "code",
   "execution_count": 9,
   "metadata": {},
   "outputs": [],
   "source": [
    "img_180_380 = np.copy(par_corrected_image_180_380)"
   ]
  },
  {
   "cell_type": "code",
   "execution_count": 20,
   "metadata": {},
   "outputs": [],
   "source": [
    "img_380_432 = np.copy(par_corrected_image_380_432)"
   ]
  },
  {
   "cell_type": "code",
   "execution_count": 11,
   "metadata": {},
   "outputs": [],
   "source": [
    "img = np.zeros([432,512,512])\n",
    "img[0:180,...] = img_0_180\n",
    "img[180:380,...] = img_180_380\n",
    "img[380:432,...] = img_380_432\n",
    "\n",
    "img_average = np.zeros([img.shape[0] // 4, img.shape[1], img.shape[2]])\n",
    "for i in range(0,img.shape[0] // 4):\n",
    "    img_average[i,...] = np.mean(img[(4 * i) : (4 * i + 4),...], axis = 0)\n",
    "\n",
    "img_average = img_average.astype(np.int16)\n",
    "\n",
    "sitk_recon = sitk.GetImageFromArray(img_average)\n",
    "sitk_recon.SetSpacing([0.6016,0.6016, 2.828])\n",
    "sitk.WriteImage(sitk_recon, os.path.join(main_folder, 'PAR_corrected_HRxy.nii.gz')) \n"
   ]
  },
  {
   "attachments": {},
   "cell_type": "markdown",
   "metadata": {},
   "source": [
    "then run ring artifact removal"
   ]
  },
  {
   "cell_type": "code",
   "execution_count": 27,
   "metadata": {},
   "outputs": [],
   "source": [
    "# after ring-artifact-removal:\n",
    "study = 'study_10'\n",
    "main_folder = os.path.join('/mnt/mount_zc_NAS/motion_correction/data/phantom_data', study)\n",
    "\n",
    "filepath = os.path.join(main_folder, 'PAR_corrected_HRxy_ibc_idr.nii.gz')\n",
    "a = sitk.ReadImage(filepath)\n",
    "b = sitk.GetArrayFromImage(a)\n",
    "par_corrected_image = zoom(b,[1,0.601,0.601])\n",
    "\n",
    "sitk_recon = sitk.GetImageFromArray(par_corrected_image[45:95,:,:])\n",
    "sitk_recon.SetSpacing([1,1,2.828])\n",
    "sitk.WriteImage(sitk_recon, os.path.join(main_folder, 'PAR_corrected_ibc_idr.nii.gz'))"
   ]
  },
  {
   "attachments": {},
   "cell_type": "markdown",
   "metadata": {},
   "source": [
    "# Compare"
   ]
  },
  {
   "cell_type": "code",
   "execution_count": 68,
   "metadata": {},
   "outputs": [],
   "source": [
    "par_results = nb.load(os.path.join(main_folder, 'PAR_corrected_ibc_idr.nii.gz')).get_fdata()[:,:,10:50]\n",
    "\n",
    "cnn_results = nb.load(os.path.join('/mnt/mount_zc_NAS/motion_correction/predict/phantom_data/images/',study, 'pred_CNN.nii.gz')).get_fdata()[:,:,10:50]\n",
    "\n",
    "static = nb.load('/mnt/mount_zc_NAS/head_phantom_raw/processed/study_4/scan4/processed_0/recon_cropped/recon_ibc_idr_partial.nii.gz').get_fdata()[:,:,10:50]\n",
    "\n",
    "move = nb.load(os.path.join(main_folder, 'simulated_imgs_resampled/recon_motion_ibc_idr_partial.nii.gz')).get_fdata()[:,:,10:50]"
   ]
  },
  {
   "cell_type": "code",
   "execution_count": 69,
   "metadata": {},
   "outputs": [
    {
     "name": "stdout",
     "output_type": "stream",
     "text": [
      "133.51390618164925 279.0894466972709 0.7530276501417535\n",
      "52.68155900743444 131.98286579607085 0.935793504875761\n",
      "95.70260915919522 206.14442438030264 0.8604510135310337\n"
     ]
    }
   ],
   "source": [
    "mae, mse, rmse, r_rmse, ssim = ff.compare(move, static, cutoff_low=-10)\n",
    "print(mae, rmse, ssim)\n",
    "\n",
    "mae, mse, rmse, r_rmse, ssim = ff.compare(cnn_results, static, cutoff_low=-10)\n",
    "print(mae, rmse, ssim)\n",
    "\n",
    "mae, mse, rmse, r_rmse, ssim = ff.compare(par_results, static, cutoff_low=-10, extreme = 900)\n",
    "print(mae, rmse, ssim)"
   ]
  }
 ],
 "metadata": {
  "kernelspec": {
   "display_name": "Python 3",
   "language": "python",
   "name": "python3"
  },
  "language_info": {
   "codemirror_mode": {
    "name": "ipython",
    "version": 3
   },
   "file_extension": ".py",
   "mimetype": "text/x-python",
   "name": "python",
   "nbconvert_exporter": "python",
   "pygments_lexer": "ipython3",
   "version": "3.8.10"
  },
  "orig_nbformat": 4
 },
 "nbformat": 4,
 "nbformat_minor": 2
}
