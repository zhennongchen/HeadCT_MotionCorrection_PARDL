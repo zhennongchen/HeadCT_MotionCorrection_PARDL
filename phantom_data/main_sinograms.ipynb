{
 "cells": [
  {
   "cell_type": "code",
   "execution_count": 1,
   "metadata": {},
   "outputs": [],
   "source": [
    "import numpy as np\n",
    "import os\n",
    "import matplotlib.pyplot as plt\n",
    "import nibabel as nb\n",
    "import SimpleITK as sitk\n",
    "\n",
    "\n",
    "import HeadCT_motion_correction_PAR.functions_collection as ff\n",
    "import HeadCT_motion_correction_PAR.Data_processing as dp\n",
    "import HeadCT_motion_correction_PAR.motion_simulator.motion_simulation.ct_basic as basic\n",
    "import HeadCT_motion_correction_PAR.motion_simulator.transformation as transform\n",
    "\n",
    "import CTProjector.src.ct_projector.projector.numpy as ct_projector\n",
    "import CTProjector.src.ct_projector.projector.numpy.fan_equiangluar as ct_fan\n",
    "import CMR_HFpEF_Analysis.motion_correction.Bspline as Bspline\n",
    "main_path = '/mnt/mount_zc_NAS/head_phantom_raw/processed'\n",
    "our_projection = nb.load(os.path.join('/mnt/mount_zc_NAS/motion_correction/data/simulated_data_3D_spline/', 'MO101701M000001/MO001A000001/random_1/projection.nii.gz'))"
   ]
  },
  {
   "attachments": {},
   "cell_type": "markdown",
   "metadata": {},
   "source": [
    "# backproject the sinogram:"
   ]
  },
  {
   "cell_type": "code",
   "execution_count": 23,
   "metadata": {},
   "outputs": [
    {
     "name": "stdout",
     "output_type": "stream",
     "text": [
      "Reading data from 27 files\n",
      "0,1,2,3,4,5,6,7,8,9,10,11,12,13,14,15,16,17,18,19,20,21,22,23,24,25,26,prjs shape  (1, 27, 1440, 4, 4, 448)\n",
      "prjs shape  (27, 1440, 4, 448)\n"
     ]
    }
   ],
   "source": [
    "input_dir = os.path.join(main_path, 'study_4/scan6/processed_0/prjs_fan')\n",
    "projector = ct_projector.ct_projector()\n",
    "projector.from_file('./projector_fan_scanner.cfg')\n",
    "prjs, projector = ff.read_projection_data(\n",
    "        input_dir, projector, 0, -1, 1, 4\n",
    "    )\n",
    "\n",
    "prjs_hann = ff.apply_hann(prjs, projector)\n",
    "# for k in vars(projector):\n",
    "#         print (k, '=', getattr(projector, k))"
   ]
  },
  {
   "cell_type": "code",
   "execution_count": 24,
   "metadata": {},
   "outputs": [
    {
     "name": "stdout",
     "output_type": "stream",
     "text": [
      "(27, 1440, 4, 448)\n"
     ]
    }
   ],
   "source": [
    "# # save\n",
    "# prjs_save_folder = os.path.join(os.path.dirname(input_dir), 'prjs_hann')\n",
    "# ff.make_folder([prjs_save_folder])\n",
    "# print(prjs_hann.shape)\n",
    "# # nb.save(nb.Nifti1Image(prjs_hann, our_projection.affine), os.path.join(prjs_save_folder,'projection_original.nii.gz'))\n",
    "# nb.save(nb.Nifti1Image(prjs_hann, our_projection.affine), os.path.join(prjs_save_folder,'projection_averaged.nii.gz'))"
   ]
  },
  {
   "cell_type": "code",
   "execution_count": 19,
   "metadata": {},
   "outputs": [
    {
     "name": "stdout",
     "output_type": "stream",
     "text": [
      "(108, 1440, 448)\n"
     ]
    }
   ],
   "source": [
    "# #  if nz_slcie = 1, then average every 4 slices\n",
    "# prjs_reshape = np.transpose(prjs_hann,[0,2,1,3])\n",
    "# prjs_reshape = np.reshape(prjs_reshape, [prjs_reshape.shape[0] * prjs_reshape.shape[1], prjs_reshape.shape[2], prjs_reshape.shape[3]])\n",
    " \n",
    "# prjs_average = np.zeros([prjs_reshape.shape[0] // 4, prjs_reshape.shape[1], prjs_reshape.shape[2]])\n",
    "# for i in range(0,prjs_reshape.shape[0] // 4):\n",
    "#     prjs_average[i,...] = np.mean(prjs_reshape[(4 * i) : (4 * i + 4),...], axis = 0)\n",
    "# print(prjs_average.shape)\n",
    "\n",
    "# prjs_hann = np.reshape(prjs_average, [27, 4, 1440, 448])\n",
    "# prjs_hann = np.transpose(prjs_hann, [0,2,1,3])\n",
    "\n",
    "# projector = ct_projector.ct_projector()\n",
    "# projector.from_file('./projector_fan_scanner.cfg')\n",
    "# projector.nv = 4\n",
    "# projector.nz = 4\n",
    "# projector.dv = projector.dv * 4\n",
    "# projector.dz = projector.dv"
   ]
  },
  {
   "cell_type": "code",
   "execution_count": 18,
   "metadata": {},
   "outputs": [],
   "source": [
    "angles = projector.get_angles()\n",
    "prjs_hann_C = np.copy(prjs_hann, 'C')\n",
    "fprjs_hann = ct_fan.ramp_filter(projector, prjs_hann_C, 'rl')\n",
    "recon = ct_fan.fbp_bp(projector, fprjs_hann, angles)\n",
    "\n",
    "# angles = projector.get_angles()\n",
    "# prjs = np.copy(prjs, 'C')\n",
    "# fprjs = ct_fan.ramp_filter(projector, prjs, 'hann')\n",
    "# recon = ct_fan.fbp_bp(projector, fprjs, angles)\n",
    "\n",
    "\n",
    "recon = recon / 0.0193 * 1000 - 1000\n",
    "recon_final_original = np.concatenate(recon, axis = 0)\n",
    "recon_final_original = recon_final_original.astype(np.int16)\n",
    "\n",
    "# sitk_recon = sitk.GetImageFromArray(recon_final_original)\n",
    "# sitk_recon.SetSpacing([float(projector.dx), float(projector.dy), float(projector.dz)])\n",
    "# output_dir = os.path.join(os.path.dirname(input_dir), 'recon')\n",
    "# ff.make_folder([output_dir])\n",
    "# sitk.WriteImage(sitk_recon, os.path.join(output_dir, 'recon22.nii.gz'))"
   ]
  },
  {
   "attachments": {},
   "cell_type": "markdown",
   "metadata": {},
   "source": [
    "# Simulate motion"
   ]
  },
  {
   "attachments": {},
   "cell_type": "markdown",
   "metadata": {},
   "source": [
    "positive move in signogram theta direction: sinogram down, head rotation clock-wise in z, positive degree if using transformation\n",
    "\n",
    "positive move in z direction: head move up, so for the same indexed slice, moved head shows the plane closer to the mouth compared to original head, negative tz if using transformation\n",
    "\n",
    "change from study 4 scan 3 to study 4 scan 6 is tx negative move if using transformation"
   ]
  },
  {
   "cell_type": "code",
   "execution_count": 2,
   "metadata": {},
   "outputs": [],
   "source": [
    "# all studies:\n",
    "# initial state\n",
    "prjs4 = nb.load(os.path.join(main_path, 'study_4/scan4/processed_0/prjs_hann/projection_original.nii.gz')).get_fdata()\n",
    "prjs4_reshape = np.transpose(prjs4,[0,2,1,3])\n",
    "prjs4_reshape = np.reshape(prjs4_reshape, [prjs4_reshape.shape[0] * prjs4_reshape.shape[1], prjs4_reshape.shape[2], prjs4_reshape.shape[3]])\n",
    "\n",
    "prjs3 = nb.load(os.path.join(main_path, 'study_4/scan3/processed_0/prjs_hann/projection_original.nii.gz')).get_fdata()\n",
    "prjs3_reshape = np.transpose(prjs3,[0,2,1,3])\n",
    "prjs3_reshape = np.reshape(prjs3_reshape, [prjs3_reshape.shape[0] * prjs3_reshape.shape[1], prjs3_reshape.shape[2], prjs3_reshape.shape[3]])\n",
    "\n",
    "prjs5 = nb.load(os.path.join(main_path, 'study_4/scan5/processed_0/prjs_hann/projection_original.nii.gz')).get_fdata()\n",
    "prjs5_reshape = np.transpose(prjs5,[0,2,1,3])\n",
    "prjs5_reshape = np.reshape(prjs5_reshape, [prjs5_reshape.shape[0] * prjs5_reshape.shape[1], prjs5_reshape.shape[2], prjs5_reshape.shape[3]])\n",
    "\n",
    "prjs6 = nb.load(os.path.join(main_path, 'study_4/scan6/processed_0/prjs_hann/projection_original.nii.gz')).get_fdata()\n",
    "prjs6_reshape = np.transpose(prjs6,[0,2,1,3])\n",
    "prjs6_reshape = np.reshape(prjs6_reshape, [prjs6_reshape.shape[0] * prjs6_reshape.shape[1], prjs6_reshape.shape[2], prjs6_reshape.shape[3]])\n",
    "\n",
    "print(prjs4.shape)\n"
   ]
  },
  {
   "cell_type": "code",
   "execution_count": 83,
   "metadata": {},
   "outputs": [
    {
     "name": "stdout",
     "output_type": "stream",
     "text": [
      "[ 0.    -1.414 -3.535 -4.242 -3.535] [0. 0. 0. 0. 0.] [0. 0. 0. 0. 0.] [ 0.   -1.   -1.5  -2.75 -3.75] [0. 0. 0. 0. 0.] [0. 0. 0. 0. 0.]\n"
     ]
    }
   ],
   "source": [
    "# define motions\n",
    "tz_list = np.array([0.   , -0.   , -0.707   , -0.707, -0.707, \n",
    "              -1.414, -1.414, -1.414, -2.828, -2.828,\n",
    "              -2.828, -2.828, -3.535, -3.535, -3.535, \n",
    "              -3.535,-3.535, -3.535, -2.828,-2.828,\n",
    "              -2.828, -2.828, -3.535, -3.535, -3.535 ]) *-1\n",
    "\n",
    "# tx_list = np.array([0,0,0,0, 0, \n",
    "#               0,  0,   0,   -2, -2, \n",
    "#               -2, -2, -2, -2, -2,\n",
    "#               -2, -4, -4, -4, -4,\n",
    "#               -4, -4, -4, -4, -4 ])\n",
    "tx_list = [0] * 25\n",
    "ty_list = [0] * 25\n",
    "\n",
    "rz_list = np.array([0. ,0, 0.25, 0.50, 0.75, \n",
    "              0.75, 0.75, 1, 1, 1,\n",
    "              1, 1.25, 1.50, 1.75, 2.0,\n",
    "              2.50, 2.50, 2.50, 2.75, 3.0,\n",
    "              3.50, 3.50, 3.25, 3.00, 2.75]) *-1\n",
    "rx_list = [0] * 25\n",
    "ry_list = [0] * 25\n",
    "\n",
    "amplitude_tz_mm = Bspline.control_points(np.linspace(1,25,25), np.asarray(tz_list), 5 )\n",
    "amplitude_tx_mm = Bspline.control_points(np.linspace(1,25,25), np.asarray(tx_list) * 0.601, 5 )\n",
    "amplitude_ty_mm = Bspline.control_points(np.linspace(1,25,25), np.asarray(ty_list), 5 )\n",
    "amplitude_rz_degree = Bspline.control_points(np.linspace(1,25,25), np.asarray(rz_list), 5 )\n",
    "amplitude_rx_degree = Bspline.control_points(np.linspace(1,25,25), np.asarray(rx_list), 5 )\n",
    "amplitude_ry_degree = Bspline.control_points(np.linspace(1,25,25), np.asarray(ry_list), 5 )\n",
    "print(amplitude_tz_mm, amplitude_tx_mm, amplitude_ty_mm, amplitude_rz_degree, amplitude_rx_degree, amplitude_ry_degree)"
   ]
  },
  {
   "cell_type": "code",
   "execution_count": 84,
   "metadata": {},
   "outputs": [
    {
     "name": "stdout",
     "output_type": "stream",
     "text": [
      "0 [0, 56] 0 sinogram use:  4 -0.0 0 -0.0 0\n",
      "1 [56, 112] 0 sinogram use:  4 0.0 0 -0.0 0\n",
      "2 [112, 168] 0 sinogram use:  4 0.707 1 -0.25 -1\n",
      "3 [168, 224] 0 sinogram use:  4 0.707 1 -0.5 -2\n",
      "4 [224, 280] 0 sinogram use:  4 0.707 1 -0.75 -3\n",
      "5 [280, 336] 0 sinogram use:  4 1.414 2 -0.75 -3\n",
      "6 [336, 392] 0 sinogram use:  4 1.414 2 -1.0 -4\n",
      "7 [392, 448] 0 sinogram use:  4 1.414 2 -1.0 -4\n",
      "8 [448, 504] 0 sinogram use:  4 2.828 4 -1.0 -4\n",
      "9 [504, 560] 0 sinogram use:  4 2.828 4 -1.0 -4\n",
      "10 [560, 616] 0 sinogram use:  4 2.828 4 -1.0 -4\n",
      "11 [616, 672] 0 sinogram use:  4 2.828 4 -1.25 -5\n",
      "12 [672, 728] 0 sinogram use:  4 3.535 5 -1.5 -6\n",
      "13 [728, 784] 0 sinogram use:  4 3.535 5 -1.75 -7\n",
      "14 [784, 840] 0 sinogram use:  4 3.535 5 -2.0 -8\n",
      "15 [840, 896] 0 sinogram use:  4 3.535 5 -2.5 -10\n",
      "16 [896, 952] 0 sinogram use:  4 4.242 6 -2.5 -10\n",
      "17 [952, 1008] 0 sinogram use:  4 4.242 6 -2.5 -10\n",
      "18 [1008, 1064] 0 sinogram use:  4 4.242 6 -2.75 -11\n",
      "19 [1064, 1120] 0 sinogram use:  4 4.242 6 -3.0 -12\n",
      "20 [1120, 1176] 0 sinogram use:  4 4.242 6 -3.5 -14\n",
      "21 [1176, 1232] 0 sinogram use:  4 3.535 5 -3.75 -15\n",
      "22 [1232, 1288] 0 sinogram use:  4 3.535 5 -3.75 -15\n",
      "23 [1288, 1344] 0 sinogram use:  4 3.535 5 -3.75 -15\n",
      "24 [1344, 1400] 0 sinogram use:  4 3.535 5 -3.75 -15\n",
      "25 [1400, 1440] 0 sinogram use:  4 3.535 5 -3.75 -15\n"
     ]
    }
   ],
   "source": [
    "# divide sinogram in to 25 segments (56 * 25 = 1400 + 40 slices same as the last segment) and simulate motions\n",
    "increment = 1400 // 25\n",
    "prjs_new = np.zeros_like(prjs4_reshape)\n",
    "\n",
    "for i in range( 0, 26):\n",
    "\n",
    "    if i == 25:\n",
    "        tz = tz_list[-1]\n",
    "        rz = rz_list[-1]\n",
    "        tx = tx_list[-1]\n",
    "    else:\n",
    "        tz = tz_list[i]\n",
    "        rz = rz_list[i]\n",
    "        tx = tx_list[i]\n",
    "\n",
    "    if i < 25:\n",
    "        slice_index = [increment * i, increment * (i+1)]\n",
    "    else:\n",
    "        slice_index = [increment * 25 , prjs4_reshape.shape[1]]\n",
    "    \n",
    "    if tx == 0:\n",
    "        p = np.copy(prjs4_reshape)\n",
    "        use = 4\n",
    "    elif tx == 1 or tx == 2:\n",
    "        p = np.copy(prjs3_reshape)\n",
    "        use = 3\n",
    "    elif tx == -2:\n",
    "        p = np.copy(prjs5_reshape)\n",
    "        use = 5\n",
    "    elif tx == -4:\n",
    "        p = np.copy(prjs6_reshape)\n",
    "        use = 6\n",
    "\n",
    "    p = dp.move_3Dimage(p, [int(np.round(-tz / 0.707)), int(np.round(rz/360 * 1440)),0])\n",
    "    print(i, slice_index, tx, 'sinogram use: ', use, -tz, int(np.round(-tz / 0.707)), rz, int(np.round(rz/360 * 1440)))\n",
    "\n",
    "    prjs_new[:, slice_index[0]: slice_index[1], :] = p[:, slice_index[0]: slice_index[1], :]"
   ]
  },
  {
   "cell_type": "code",
   "execution_count": 85,
   "metadata": {},
   "outputs": [],
   "source": [
    "# save sinogram with original z resolution \n",
    "study = 'study_19'\n",
    "main_save_folder = os.path.join('/mnt/mount_zc_NAS/motion_correction/data/phantom_data/', study)\n",
    "ff.make_folder([main_save_folder])\n",
    "nb.save(nb.Nifti1Image(prjs_new, our_projection.affine), os.path.join(main_save_folder,'projection_HR.nii.gz'))"
   ]
  },
  {
   "cell_type": "code",
   "execution_count": 86,
   "metadata": {},
   "outputs": [
    {
     "name": "stdout",
     "output_type": "stream",
     "text": [
      "(108, 1440, 448)\n",
      "(27, 1440, 4, 448)\n",
      "(108, 1440, 448)\n"
     ]
    }
   ],
   "source": [
    "# reconstruct images using z resolution = 2.828mm\n",
    "prjs_new_average = np.zeros([prjs_new.shape[0] // 4, prjs_new.shape[1], prjs_new.shape[2]])\n",
    "for i in range(0,prjs_new.shape[0] // 4):\n",
    "    prjs_new_average[i,...] = np.mean(prjs_new[(4 * i) : (4 * i + 4),...], axis = 0)\n",
    "\n",
    "print(prjs_new_average.shape)\n",
    "prjs_new_average = np.reshape(prjs_new_average, [prjs_new_average.shape[0] // 4, 4, prjs_new_average.shape[1],prjs_new_average.shape[2]])\n",
    "prjs_new_average = np.transpose(prjs_new_average, [0,2,1,3])\n",
    "print(prjs_new_average.shape)\n",
    "\n",
    "projector = ct_projector.ct_projector()\n",
    "projector.from_file('./projector_fan_scanner.cfg')\n",
    "projector.nv = 4\n",
    "projector.nz = 4\n",
    "projector.dv = projector.dv * 4\n",
    "projector.dz = projector.dv\n",
    "\n",
    "angles = projector.get_angles()\n",
    "prjs_new_averageC = np.copy(prjs_new_average, 'C')\n",
    "fprjs = ct_fan.ramp_filter(projector, prjs_new_averageC, 'rl')\n",
    "recon = ct_fan.fbp_bp(projector, fprjs, angles)\n",
    "recon = recon / 0.0193 * 1000 - 1000\n",
    "\n",
    "recon_final = np.concatenate(recon, axis = 0)\n",
    "recon_final = recon_final.astype(np.int16)\n",
    "sitk_recon = sitk.GetImageFromArray(recon_final)\n",
    "sitk_recon.SetSpacing([float(projector.dx), float(projector.dy), float(projector.dz)])\n",
    "\n",
    "output_dir = os.path.join(main_save_folder, 'simulated_imgs_raw')\n",
    "ff.make_folder([output_dir])\n",
    "sitk.WriteImage(sitk_recon, os.path.join(output_dir, 'recon_motion.nii.gz'))\n",
    "\n",
    "\n",
    "# save partial\n",
    "recon_final_partial = np.concatenate(recon, axis = 0)[45:95,...]\n",
    "sitk_recon = sitk.GetImageFromArray(recon_final_partial)\n",
    "sitk_recon.SetSpacing([float(projector.dx), float(projector.dy), float(projector.dz)])\n",
    "sitk.WriteImage(sitk_recon, os.path.join(output_dir, 'recon_motion_partial.nii.gz'))\n",
    "\n",
    "\n",
    "# save motion\n",
    "parameter_file = os.path.join(main_save_folder,'motion_parameters.npy')\n",
    "np.save(parameter_file, np.array([[amplitude_tx_mm],[amplitude_ty_mm],[amplitude_tz_mm],[amplitude_rx_degree],[amplitude_ry_degree],[amplitude_rz_degree],[0], [0], [1440], [500]], dtype=object))\n",
    "\n",
    "a = np.stack([np.asarray(tx_list) * 0.601, np.asarray(ty_list), np.asarray(tz_list), np.asarray(rx_list), np.asarray(ry_list), np.asarray(rz_list)])\n",
    "np.save(os.path.join(main_save_folder,'motion_each_point.npy'), a)\n",
    "\n",
    "# save sinogram\n",
    "prjs_new_reshape = np.reshape(np.transpose(prjs_new_average,[0,2,1,3]), [prjs_new_average.shape[0] * prjs_new_average.shape[2] , prjs_new_average.shape[1], prjs_new_average.shape[-1]])\n",
    "print(prjs_new_reshape.shape)\n",
    "nb.save(nb.Nifti1Image(prjs_new_reshape, our_projection.affine), os.path.join(main_save_folder,'projection.nii.gz'))"
   ]
  }
 ],
 "metadata": {
  "kernelspec": {
   "display_name": "Python 3",
   "language": "python",
   "name": "python3"
  },
  "language_info": {
   "codemirror_mode": {
    "name": "ipython",
    "version": 3
   },
   "file_extension": ".py",
   "mimetype": "text/x-python",
   "name": "python",
   "nbconvert_exporter": "python",
   "pygments_lexer": "ipython3",
   "version": "3.8.10"
  },
  "orig_nbformat": 4
 },
 "nbformat": 4,
 "nbformat_minor": 2
}
