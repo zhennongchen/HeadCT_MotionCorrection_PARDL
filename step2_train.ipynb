{
 "cells": [
  {
   "cell_type": "markdown",
   "metadata": {},
   "source": [
    "## Data Preparation\n",
    "\n",
    "You should prepare the following things before running this step. Please refer to the `example_data` folder for guidance:\n",
    "\n",
    "1. **PAR images and corresponding motion parameters** from step 1\n",
    "   - the default dimension of PAR is [25,128,128,50] where 25 is the number of PAR images, [128,128] is x-y-dimension, 50 is the number of slices\n",
    "\n",
    "2. **A patient list** that enumerates all your cases.  \n",
    "   - To understand the expected format, please refer to the file:  \n",
    "     `example_data/Patient_list/patient_list.xlsx`.\n",
    "   - our model takes 15 consecutive slices as model input, so we define three starting slice (5,20,35) in the patient list, which represent different regions of the head (bottom, mid, top)\n",
    "---\n",
    "\n",
    "### Docker environment\n",
    "1. Please use `docker/docker_tensorflow`, it will build a tensorflow docker\n"
   ]
  },
  {
   "cell_type": "code",
   "execution_count": 3,
   "metadata": {},
   "outputs": [],
   "source": [
    "# %%\n",
    "import os, sys\n",
    "sys.path.append('/workspace/Documents')\n",
    "\n",
    "import argparse\n",
    "import os\n",
    "import numpy as np\n",
    "import nibabel as nb\n",
    "from contextlib import redirect_stdout\n",
    "import tensorflow as tf\n",
    "from tensorflow.keras.callbacks import ModelCheckpoint, LearningRateScheduler, CSVLogger\n",
    "from tensorflow.keras.optimizers import Adam\n",
    "from tensorflow.keras.models import Model\n",
    "from tensorflow.keras.layers import Input\n",
    "from tensorflow.keras.regularizers import l2\n",
    "\n",
    "import HeadCT_MotionCorrection_PARDL.STN.model_STN as model_STN\n",
    "import HeadCT_MotionCorrection_PARDL.STN.Generator_STN as Generator_STN\n",
    "import HeadCT_MotionCorrection_PARDL.Data_processing as dp\n",
    "import HeadCT_MotionCorrection_PARDL.functions_collection as ff\n",
    "from HeadCT_MotionCorrection_PARDL.Build_lists import Build_list\n",
    "import HeadCT_MotionCorrection_PARDL.Hyperparameters as hyper\n",
    "\n",
    "tf.random.set_seed(int(np.random.rand() * 500))\n",
    "main_path = '/mnt/camca_NAS/motion_correction/'  # replace with your main path"
   ]
  },
  {
   "cell_type": "markdown",
   "metadata": {},
   "source": [
    "### set the trial name and default parameters"
   ]
  },
  {
   "cell_type": "code",
   "execution_count": 4,
   "metadata": {},
   "outputs": [],
   "source": [
    "trial_name = 'PAR_model'\n",
    "\n",
    "CP_num = 5\n",
    "input_shape = (128,128,15,25)  # 128 for x dim, 128 for y dim, 15 for z dim (15 slices by default), 25 for the number of PAR images\n",
    "\n",
    "save_folder = os.path.join(main_path, 'example_data/models', trial_name)\n",
    "ff.make_folder([os.path.join(main_path,'example_data/models'), save_folder])\n",
    "    "
   ]
  },
  {
   "cell_type": "markdown",
   "metadata": {},
   "source": [
    "### set the patient list"
   ]
  },
  {
   "cell_type": "code",
   "execution_count": 5,
   "metadata": {},
   "outputs": [],
   "source": [
    "data_sheet = os.path.join(main_path,'example_data/Patient_list/patient_list.xlsx')\n",
    "b = Build_list.Build(data_sheet)\n",
    "\n",
    "_, _, _, _, start_slice_trn, end_slice_trn, _, _,  y_motion_param_trn, x_par_image_trn = b.__build__(batch_list = [0])\n",
    "_, _, _, _, start_slice_val, end_slice_val, _, _, y_motion_param_val, x_par_image_val = b.__build__(batch_list = [0]) # just as an example, we use train as validation data\n",
    "  "
   ]
  },
  {
   "cell_type": "markdown",
   "metadata": {},
   "source": [
    "### build model"
   ]
  },
  {
   "cell_type": "code",
   "execution_count": 6,
   "metadata": {},
   "outputs": [
    {
     "name": "stderr",
     "output_type": "stream",
     "text": [
      "2025-07-09 17:37:11.741400: I tensorflow/compiler/jit/xla_cpu_device.cc:41] Not creating XLA devices, tf_xla_enable_xla_devices not set\n",
      "2025-07-09 17:37:11.741565: I tensorflow/stream_executor/platform/default/dso_loader.cc:49] Successfully opened dynamic library libcuda.so.1\n",
      "2025-07-09 17:37:11.833081: I tensorflow/stream_executor/cuda/cuda_gpu_executor.cc:941] successful NUMA node read from SysFS had negative value (-1), but there must be at least one NUMA node, so returning NUMA node zero\n",
      "2025-07-09 17:37:11.835262: I tensorflow/core/common_runtime/gpu/gpu_device.cc:1720] Found device 0 with properties: \n",
      "pciBusID: 0000:13:00.0 name: NVIDIA A100-SXM4-40GB computeCapability: 8.0\n",
      "coreClock: 1.41GHz coreCount: 108 deviceMemorySize: 39.49GiB deviceMemoryBandwidth: 1.41TiB/s\n",
      "2025-07-09 17:37:11.835309: I tensorflow/stream_executor/platform/default/dso_loader.cc:49] Successfully opened dynamic library libcudart.so.11.0\n",
      "2025-07-09 17:37:11.835389: I tensorflow/stream_executor/platform/default/dso_loader.cc:49] Successfully opened dynamic library libcublas.so.11\n",
      "2025-07-09 17:37:11.835422: I tensorflow/stream_executor/platform/default/dso_loader.cc:49] Successfully opened dynamic library libcublasLt.so.11\n",
      "2025-07-09 17:37:11.835454: I tensorflow/stream_executor/platform/default/dso_loader.cc:49] Successfully opened dynamic library libcufft.so.10\n",
      "2025-07-09 17:37:11.835484: I tensorflow/stream_executor/platform/default/dso_loader.cc:49] Successfully opened dynamic library libcurand.so.10\n",
      "2025-07-09 17:37:11.835515: I tensorflow/stream_executor/platform/default/dso_loader.cc:49] Successfully opened dynamic library libcusolver.so.10\n",
      "2025-07-09 17:37:11.835545: I tensorflow/stream_executor/platform/default/dso_loader.cc:49] Successfully opened dynamic library libcusparse.so.11\n",
      "2025-07-09 17:37:11.835564: I tensorflow/stream_executor/platform/default/dso_loader.cc:49] Successfully opened dynamic library libcudnn.so.8\n",
      "2025-07-09 17:37:11.835665: I tensorflow/stream_executor/cuda/cuda_gpu_executor.cc:941] successful NUMA node read from SysFS had negative value (-1), but there must be at least one NUMA node, so returning NUMA node zero\n",
      "2025-07-09 17:37:11.837686: I tensorflow/stream_executor/cuda/cuda_gpu_executor.cc:941] successful NUMA node read from SysFS had negative value (-1), but there must be at least one NUMA node, so returning NUMA node zero\n",
      "2025-07-09 17:37:11.839628: I tensorflow/core/common_runtime/gpu/gpu_device.cc:1862] Adding visible gpu devices: 0\n",
      "2025-07-09 17:37:11.840119: I tensorflow/core/platform/cpu_feature_guard.cc:142] This TensorFlow binary is optimized with oneAPI Deep Neural Network Library (oneDNN) to use the following CPU instructions in performance-critical operations:  AVX2 FMA\n",
      "To enable them in other operations, rebuild TensorFlow with the appropriate compiler flags.\n",
      "2025-07-09 17:37:11.842052: I tensorflow/compiler/jit/xla_gpu_device.cc:99] Not creating XLA devices, tf_xla_enable_xla_devices not set\n",
      "2025-07-09 17:37:11.842191: I tensorflow/stream_executor/cuda/cuda_gpu_executor.cc:941] successful NUMA node read from SysFS had negative value (-1), but there must be at least one NUMA node, so returning NUMA node zero\n",
      "2025-07-09 17:37:11.844149: I tensorflow/core/common_runtime/gpu/gpu_device.cc:1720] Found device 0 with properties: \n",
      "pciBusID: 0000:13:00.0 name: NVIDIA A100-SXM4-40GB computeCapability: 8.0\n",
      "coreClock: 1.41GHz coreCount: 108 deviceMemorySize: 39.49GiB deviceMemoryBandwidth: 1.41TiB/s\n",
      "2025-07-09 17:37:11.844173: I tensorflow/stream_executor/platform/default/dso_loader.cc:49] Successfully opened dynamic library libcudart.so.11.0\n",
      "2025-07-09 17:37:11.844195: I tensorflow/stream_executor/platform/default/dso_loader.cc:49] Successfully opened dynamic library libcublas.so.11\n",
      "2025-07-09 17:37:11.844215: I tensorflow/stream_executor/platform/default/dso_loader.cc:49] Successfully opened dynamic library libcublasLt.so.11\n",
      "2025-07-09 17:37:11.844233: I tensorflow/stream_executor/platform/default/dso_loader.cc:49] Successfully opened dynamic library libcufft.so.10\n",
      "2025-07-09 17:37:11.844250: I tensorflow/stream_executor/platform/default/dso_loader.cc:49] Successfully opened dynamic library libcurand.so.10\n",
      "2025-07-09 17:37:11.844267: I tensorflow/stream_executor/platform/default/dso_loader.cc:49] Successfully opened dynamic library libcusolver.so.10\n",
      "2025-07-09 17:37:11.844286: I tensorflow/stream_executor/platform/default/dso_loader.cc:49] Successfully opened dynamic library libcusparse.so.11\n",
      "2025-07-09 17:37:11.844303: I tensorflow/stream_executor/platform/default/dso_loader.cc:49] Successfully opened dynamic library libcudnn.so.8\n",
      "2025-07-09 17:37:11.844399: I tensorflow/stream_executor/cuda/cuda_gpu_executor.cc:941] successful NUMA node read from SysFS had negative value (-1), but there must be at least one NUMA node, so returning NUMA node zero\n",
      "2025-07-09 17:37:11.846416: I tensorflow/stream_executor/cuda/cuda_gpu_executor.cc:941] successful NUMA node read from SysFS had negative value (-1), but there must be at least one NUMA node, so returning NUMA node zero\n",
      "2025-07-09 17:37:11.848351: I tensorflow/core/common_runtime/gpu/gpu_device.cc:1862] Adding visible gpu devices: 0\n",
      "2025-07-09 17:37:11.848767: I tensorflow/stream_executor/platform/default/dso_loader.cc:49] Successfully opened dynamic library libcudart.so.11.0\n",
      "2025-07-09 17:37:12.825217: I tensorflow/core/common_runtime/gpu/gpu_device.cc:1261] Device interconnect StreamExecutor with strength 1 edge matrix:\n",
      "2025-07-09 17:37:12.825276: I tensorflow/core/common_runtime/gpu/gpu_device.cc:1267]      0 \n",
      "2025-07-09 17:37:12.825289: I tensorflow/core/common_runtime/gpu/gpu_device.cc:1280] 0:   N \n",
      "2025-07-09 17:37:12.825645: I tensorflow/stream_executor/cuda/cuda_gpu_executor.cc:941] successful NUMA node read from SysFS had negative value (-1), but there must be at least one NUMA node, so returning NUMA node zero\n",
      "2025-07-09 17:37:12.827212: I tensorflow/stream_executor/cuda/cuda_gpu_executor.cc:941] successful NUMA node read from SysFS had negative value (-1), but there must be at least one NUMA node, so returning NUMA node zero\n",
      "2025-07-09 17:37:12.828515: I tensorflow/stream_executor/cuda/cuda_gpu_executor.cc:941] successful NUMA node read from SysFS had negative value (-1), but there must be at least one NUMA node, so returning NUMA node zero\n",
      "2025-07-09 17:37:12.829748: I tensorflow/core/common_runtime/gpu/gpu_device.cc:1406] Created TensorFlow device (/job:localhost/replica:0/task:0/device:GPU:0 with 37458 MB memory) -> physical GPU (device: 0, name: NVIDIA A100-SXM4-40GB, pci bus id: 0000:13:00.0, compute capability: 8.0)\n"
     ]
    },
    {
     "name": "stdout",
     "output_type": "stream",
     "text": [
      "Compile Model...\n",
      "Set callbacks...\n"
     ]
    }
   ],
   "source": [
    "model_inputs = [Input(input_shape)]\n",
    "model_outputs=[]\n",
    "tx, ty, tz, rx, ry, rz = model_STN.get_CNN(nb_filters = [16,32,64,128,256], dimension = 3, CP_num = CP_num)(model_inputs[0])\n",
    "model_outputs = [tx, ty, tz, rx , ry, rz]\n",
    "model = Model(inputs = model_inputs,outputs = model_outputs)\n",
    "\n",
    "# if continue your training:\n",
    "load_model_file = None # or your own model file path\n",
    "if load_model_file != None:\n",
    "    print(load_model_file)\n",
    "    model.load_weights(load_model_file)\n",
    "\n",
    "# compile model\n",
    "print('Compile Model...')\n",
    "opt = Adam(lr = 1e-4)\n",
    "weights = [1,1,1,1,1,1]\n",
    "model.compile(optimizer= opt, \n",
    "                loss= ['MSE','MSE','MSE', 'MSE', 'MSE', 'MSE'],\n",
    "                loss_weights = weights,)\n",
    "\n",
    "# set callbacks\n",
    "print('Set callbacks...')\n",
    "model_fld = os.path.join(save_folder,'models')\n",
    "ff.make_folder([model_fld, os.path.join(save_folder, 'logs')])\n",
    "\n",
    "filepath=os.path.join(model_fld, 'model-{epoch:03d}.hdf5')\n",
    "\n",
    "csv_logger = CSVLogger(os.path.join(save_folder, 'logs','training-log.csv'))\n",
    "callbacks = [csv_logger,\n",
    "            ModelCheckpoint(filepath,          \n",
    "                                monitor='val_loss',\n",
    "                                save_best_only=False,),\n",
    "                    LearningRateScheduler(hyper.learning_rate_step_decay_classic)]"
   ]
  },
  {
   "cell_type": "markdown",
   "metadata": {},
   "source": [
    "### data generator"
   ]
  },
  {
   "cell_type": "code",
   "execution_count": 7,
   "metadata": {},
   "outputs": [],
   "source": [
    "datagen = Generator_STN.DataGenerator(x_par_image_trn,\n",
    "                                    y_motion_param_trn, \n",
    "                                    start_slice_trn,\n",
    "                                    end_slice_trn,\n",
    "                                    start_slice_sampling = np.array([5,20,35]), # model input size is 15 slices so we define three different start slices which represent different regions of the head\n",
    "                                    patient_num = x_par_image_trn.shape[0], \n",
    "                                    batch_size = 1,\n",
    "                                    input_dimension = input_shape,\n",
    "                                    output_vector_dimension = (CP_num - 1,),\n",
    "                                    shuffle = True,\n",
    "                                    augment = False,\n",
    "                                    seed = 10)\n",
    "\n",
    "\n",
    "valgen = Generator_STN.DataGenerator(x_par_image_val,\n",
    "                                    y_motion_param_val,\n",
    "                                    start_slice_val,\n",
    "                                    end_slice_val,\n",
    "                                    start_slice_sampling = np.array([5,20,35]),\n",
    "                                    patient_num = x_par_image_val.shape[0], \n",
    "                                    batch_size = 1,\n",
    "                                    input_dimension = input_shape,\n",
    "                                    output_vector_dimension = (CP_num - 1,),\n",
    "                                    shuffle = False,\n",
    "                                    augment = False,\n",
    "                                    seed = 11)"
   ]
  },
  {
   "cell_type": "markdown",
   "metadata": {},
   "source": [
    "### train the model"
   ]
  },
  {
   "cell_type": "code",
   "execution_count": 9,
   "metadata": {},
   "outputs": [],
   "source": [
    "model.fit_generator(generator = datagen,\n",
    "                        epochs = 100,\n",
    "                        validation_data = valgen,\n",
    "                        callbacks = callbacks,\n",
    "                        verbose = 1,\n",
    "                        )"
   ]
  },
  {
   "cell_type": "code",
   "execution_count": null,
   "metadata": {},
   "outputs": [],
   "source": []
  }
 ],
 "metadata": {
  "kernelspec": {
   "display_name": "Python 3",
   "language": "python",
   "name": "python3"
  },
  "language_info": {
   "codemirror_mode": {
    "name": "ipython",
    "version": 3
   },
   "file_extension": ".py",
   "mimetype": "text/x-python",
   "name": "python",
   "nbconvert_exporter": "python",
   "pygments_lexer": "ipython3",
   "version": "3.8.10"
  }
 },
 "nbformat": 4,
 "nbformat_minor": 2
}
