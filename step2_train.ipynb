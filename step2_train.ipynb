{
 "cells": [
  {
   "cell_type": "markdown",
   "metadata": {},
   "source": [
    "## Data Preparation\n",
    "\n",
    "You should prepare the following things before running this step. Please refer to the `example_data` folder for guidance:\n",
    "\n",
    "1. **NIfTI images** of head CT resampled to a voxel size of **[1,1,2.5] mm³**.  \n",
    "   - Please refer to ```example_data/data/raw_data``` for an example\n",
    "\n",
    "---\n",
    "\n",
    "## Simulate motion-corrupted image and its partial angle reconstruction (PAR) for supervised training\n",
    "\n",
    "In this script, we apply simulated motion to a motion-free head CT scan and therefore record the motion parameters (used as ground truth in model training) and generate motion-corrupted images as well as partial angle reconstrutions (used as model input).\n",
    "- motion parameter and image example: ```example_data/data/simulated_data_3D_spline_6degrees```.\n",
    "    \n",
    "- PAR example: ```example_data/data/PAR_3D_spline_6degrees```\n",
    "\n",
    "---\n",
    "\n",
    "### Docker environment\n",
    "1. Please use `docker/docker_tensorflow`, it will build a tensorflow docker\n"
   ]
  },
  {
   "cell_type": "code",
   "execution_count": 3,
   "metadata": {},
   "outputs": [],
   "source": [
    "# %%\n",
    "import os, sys\n",
    "sys.path.append('/workspace/Documents')\n",
    "\n",
    "import argparse\n",
    "import os\n",
    "import numpy as np\n",
    "import nibabel as nb\n",
    "from contextlib import redirect_stdout\n",
    "import tensorflow as tf\n",
    "from tensorflow.keras.callbacks import ModelCheckpoint, LearningRateScheduler, CSVLogger\n",
    "from tensorflow.keras.optimizers import Adam\n",
    "from tensorflow.keras.models import Model\n",
    "from tensorflow.keras.layers import Input\n",
    "from tensorflow.keras.regularizers import l2\n",
    "\n",
    "import HeadCT_MotionCorrection_PARDL.STN.model_STN\n",
    "import HeadCT_MotionCorrection_PARDL.STN.Generator_STN\n",
    "import HeadCT_MotionCorrection_PARDL.Data_processing as dp\n",
    "import HeadCT_MotionCorrection_PARDL.functions_collection as ff\n",
    "from HeadCT_MotionCorrection_PARDL.Build_lists import Build_list\n",
    "import HeadCT_MotionCorrection_PARDL.Hyperparameters as hyper"
   ]
  },
  {
   "cell_type": "code",
   "execution_count": null,
   "metadata": {},
   "outputs": [],
   "source": []
  }
 ],
 "metadata": {
  "kernelspec": {
   "display_name": "Python 3",
   "language": "python",
   "name": "python3"
  },
  "language_info": {
   "codemirror_mode": {
    "name": "ipython",
    "version": 3
   },
   "file_extension": ".py",
   "mimetype": "text/x-python",
   "name": "python",
   "nbconvert_exporter": "python",
   "pygments_lexer": "ipython3",
   "version": "3.8.10"
  }
 },
 "nbformat": 4,
 "nbformat_minor": 2
}
